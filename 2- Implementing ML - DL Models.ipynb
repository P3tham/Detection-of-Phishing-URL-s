{
 "cells": [
  {
   "cell_type": "code",
   "execution_count": 1,
   "metadata": {
    "colab": {
     "base_uri": "https://localhost:8080/",
     "height": 206
    },
    "executionInfo": {
     "elapsed": 2040,
     "status": "ok",
     "timestamp": 1699112578310,
     "user": {
      "displayName": "Jada Projects",
      "userId": "08763996031315654589"
     },
     "user_tz": -330
    },
    "id": "ii8JT_cMlQiM",
    "outputId": "fe0b1000-c9fb-4c37-dafb-7dc6c8b84027"
   },
   "outputs": [
    {
     "data": {
      "text/html": [
       "<div>\n",
       "<style scoped>\n",
       "    .dataframe tbody tr th:only-of-type {\n",
       "        vertical-align: middle;\n",
       "    }\n",
       "\n",
       "    .dataframe tbody tr th {\n",
       "        vertical-align: top;\n",
       "    }\n",
       "\n",
       "    .dataframe thead th {\n",
       "        text-align: right;\n",
       "    }\n",
       "</style>\n",
       "<table border=\"1\" class=\"dataframe\">\n",
       "  <thead>\n",
       "    <tr style=\"text-align: right;\">\n",
       "      <th></th>\n",
       "      <th>URL</th>\n",
       "      <th>Label</th>\n",
       "      <th>url_length</th>\n",
       "      <th>query_length</th>\n",
       "      <th>use_https</th>\n",
       "    </tr>\n",
       "  </thead>\n",
       "  <tbody>\n",
       "    <tr>\n",
       "      <th>0</th>\n",
       "      <td>nobell.it/70ffb52d079109dca5664cce6f317373782/...</td>\n",
       "      <td>0</td>\n",
       "      <td>225</td>\n",
       "      <td>47</td>\n",
       "      <td>False</td>\n",
       "    </tr>\n",
       "    <tr>\n",
       "      <th>1</th>\n",
       "      <td>www.dghjdgf.com/paypal.co.uk/cycgi-bin/webscrc...</td>\n",
       "      <td>0</td>\n",
       "      <td>81</td>\n",
       "      <td>0</td>\n",
       "      <td>False</td>\n",
       "    </tr>\n",
       "    <tr>\n",
       "      <th>2</th>\n",
       "      <td>serviciosbys.com/paypal.cgi.bin.get-into.herf....</td>\n",
       "      <td>0</td>\n",
       "      <td>177</td>\n",
       "      <td>0</td>\n",
       "      <td>False</td>\n",
       "    </tr>\n",
       "    <tr>\n",
       "      <th>3</th>\n",
       "      <td>mail.printakid.com/www.online.americanexpress....</td>\n",
       "      <td>0</td>\n",
       "      <td>60</td>\n",
       "      <td>0</td>\n",
       "      <td>False</td>\n",
       "    </tr>\n",
       "    <tr>\n",
       "      <th>4</th>\n",
       "      <td>thewhiskeydregs.com/wp-content/themes/widescre...</td>\n",
       "      <td>0</td>\n",
       "      <td>116</td>\n",
       "      <td>0</td>\n",
       "      <td>False</td>\n",
       "    </tr>\n",
       "  </tbody>\n",
       "</table>\n",
       "</div>"
      ],
      "text/plain": [
       "                                                 URL  Label  url_length  \\\n",
       "0  nobell.it/70ffb52d079109dca5664cce6f317373782/...      0         225   \n",
       "1  www.dghjdgf.com/paypal.co.uk/cycgi-bin/webscrc...      0          81   \n",
       "2  serviciosbys.com/paypal.cgi.bin.get-into.herf....      0         177   \n",
       "3  mail.printakid.com/www.online.americanexpress....      0          60   \n",
       "4  thewhiskeydregs.com/wp-content/themes/widescre...      0         116   \n",
       "\n",
       "   query_length  use_https  \n",
       "0            47      False  \n",
       "1             0      False  \n",
       "2             0      False  \n",
       "3             0      False  \n",
       "4             0      False  "
      ]
     },
     "execution_count": 1,
     "metadata": {},
     "output_type": "execute_result"
    }
   ],
   "source": [
    "import pandas as urlphish_hyrde\n",
    "\n",
    "urlphish_hyrd = urlphish_hyrde.read_csv('result_urlphish_hyrd.csv')\n",
    "urlphish_hyrd.head()"
   ]
  },
  {
   "cell_type": "code",
   "execution_count": 2,
   "metadata": {
    "colab": {
     "base_uri": "https://localhost:8080/"
    },
    "executionInfo": {
     "elapsed": 6,
     "status": "ok",
     "timestamp": 1699112578311,
     "user": {
      "displayName": "Jada Projects",
      "userId": "08763996031315654589"
     },
     "user_tz": -330
    },
    "id": "A8EruuZcnePT",
    "outputId": "872988e2-48bb-420b-ad01-f34294a9248b"
   },
   "outputs": [
    {
     "data": {
      "text/plain": [
       "1    392897\n",
       "0    114299\n",
       "Name: Label, dtype: int64"
      ]
     },
     "execution_count": 2,
     "metadata": {},
     "output_type": "execute_result"
    }
   ],
   "source": [
    "urlphish_hyrd['Label'].value_counts()"
   ]
  },
  {
   "cell_type": "markdown",
   "metadata": {
    "id": "m63NE3mlnvrd"
   },
   "source": [
    "* good kind of urls are more."
   ]
  },
  {
   "cell_type": "code",
   "execution_count": 3,
   "metadata": {
    "executionInfo": {
     "elapsed": 9,
     "status": "ok",
     "timestamp": 1699113760192,
     "user": {
      "displayName": "Jada Projects",
      "userId": "08763996031315654589"
     },
     "user_tz": -330
    },
    "id": "M6jfcwkUEkN9"
   },
   "outputs": [],
   "source": [
    "import warnings as waurlphish_hyrd\n",
    "waurlphish_hyrd.filterwarnings(\"ignore\")"
   ]
  },
  {
   "cell_type": "markdown",
   "metadata": {
    "id": "LsejQVSmnzM8"
   },
   "source": [
    "# Stop words rejection with lemmatization"
   ]
  },
  {
   "cell_type": "code",
   "execution_count": 4,
   "metadata": {},
   "outputs": [],
   "source": [
    "import nltk"
   ]
  },
  {
   "cell_type": "code",
   "execution_count": 5,
   "metadata": {},
   "outputs": [
    {
     "name": "stderr",
     "output_type": "stream",
     "text": [
      "[nltk_data] Downloading package omw-1.4 to\n",
      "[nltk_data]     C:\\Users\\Preetham\\AppData\\Roaming\\nltk_data...\n",
      "[nltk_data]   Package omw-1.4 is already up-to-date!\n"
     ]
    },
    {
     "data": {
      "text/plain": [
       "True"
      ]
     },
     "execution_count": 5,
     "metadata": {},
     "output_type": "execute_result"
    }
   ],
   "source": [
    "nltk.download('omw-1.4')"
   ]
  },
  {
   "cell_type": "code",
   "execution_count": 6,
   "metadata": {
    "colab": {
     "base_uri": "https://localhost:8080/"
    },
    "executionInfo": {
     "elapsed": 1717,
     "status": "ok",
     "timestamp": 1699112580025,
     "user": {
      "displayName": "Jada Projects",
      "userId": "08763996031315654589"
     },
     "user_tz": -330
    },
    "id": "os3soaH0mbMO",
    "outputId": "0929db0a-2e52-4e25-fc37-a5e9d5a2d937"
   },
   "outputs": [
    {
     "name": "stderr",
     "output_type": "stream",
     "text": [
      "[nltk_data] Downloading package stopwords to\n",
      "[nltk_data]     C:\\Users\\Preetham\\AppData\\Roaming\\nltk_data...\n",
      "[nltk_data]   Package stopwords is already up-to-date!\n",
      "[nltk_data] Downloading package wordnet to\n",
      "[nltk_data]     C:\\Users\\Preetham\\AppData\\Roaming\\nltk_data...\n",
      "[nltk_data]   Package wordnet is already up-to-date!\n"
     ]
    }
   ],
   "source": [
    "import nltk as urlphish_hyrdegh\n",
    "urlphish_hyrdegh.download('stopwords')\n",
    "urlphish_hyrdegh.download('wordnet')\n",
    "import regex as urlphish_hyrdegre"
   ]
  },
  {
   "cell_type": "code",
   "execution_count": 7,
   "metadata": {
    "colab": {
     "base_uri": "https://localhost:8080/"
    },
    "executionInfo": {
     "elapsed": 14,
     "status": "ok",
     "timestamp": 1699112580026,
     "user": {
      "displayName": "Jada Projects",
      "userId": "08763996031315654589"
     },
     "user_tz": -330
    },
    "id": "d6RK2Fe4pnqX",
    "outputId": "9642fa4a-f476-455b-f6c0-d2784a8831e4"
   },
   "outputs": [
    {
     "data": {
      "text/plain": [
       "['i',\n",
       " 'me',\n",
       " 'my',\n",
       " 'myself',\n",
       " 'we',\n",
       " 'our',\n",
       " 'ours',\n",
       " 'ourselves',\n",
       " 'you',\n",
       " \"you're\",\n",
       " \"you've\",\n",
       " \"you'll\",\n",
       " \"you'd\",\n",
       " 'your',\n",
       " 'yours',\n",
       " 'yourself',\n",
       " 'yourselves',\n",
       " 'he',\n",
       " 'him',\n",
       " 'his',\n",
       " 'himself',\n",
       " 'she',\n",
       " \"she's\",\n",
       " 'her',\n",
       " 'hers',\n",
       " 'herself',\n",
       " 'it',\n",
       " \"it's\",\n",
       " 'its',\n",
       " 'itself',\n",
       " 'they',\n",
       " 'them',\n",
       " 'their',\n",
       " 'theirs',\n",
       " 'themselves',\n",
       " 'what',\n",
       " 'which',\n",
       " 'who',\n",
       " 'whom',\n",
       " 'this',\n",
       " 'that',\n",
       " \"that'll\",\n",
       " 'these',\n",
       " 'those',\n",
       " 'am',\n",
       " 'is',\n",
       " 'are',\n",
       " 'was',\n",
       " 'were',\n",
       " 'be',\n",
       " 'been',\n",
       " 'being',\n",
       " 'have',\n",
       " 'has',\n",
       " 'had',\n",
       " 'having',\n",
       " 'do',\n",
       " 'does',\n",
       " 'did',\n",
       " 'doing',\n",
       " 'a',\n",
       " 'an',\n",
       " 'the',\n",
       " 'and',\n",
       " 'but',\n",
       " 'if',\n",
       " 'or',\n",
       " 'because',\n",
       " 'as',\n",
       " 'until',\n",
       " 'while',\n",
       " 'of',\n",
       " 'at',\n",
       " 'by',\n",
       " 'for',\n",
       " 'with',\n",
       " 'about',\n",
       " 'against',\n",
       " 'between',\n",
       " 'into',\n",
       " 'through',\n",
       " 'during',\n",
       " 'before',\n",
       " 'after',\n",
       " 'above',\n",
       " 'below',\n",
       " 'to',\n",
       " 'from',\n",
       " 'up',\n",
       " 'down',\n",
       " 'in',\n",
       " 'out',\n",
       " 'on',\n",
       " 'off',\n",
       " 'over',\n",
       " 'under',\n",
       " 'again',\n",
       " 'further',\n",
       " 'then',\n",
       " 'once',\n",
       " 'here',\n",
       " 'there',\n",
       " 'when',\n",
       " 'where',\n",
       " 'why',\n",
       " 'how',\n",
       " 'all',\n",
       " 'any',\n",
       " 'both',\n",
       " 'each',\n",
       " 'few',\n",
       " 'more',\n",
       " 'most',\n",
       " 'other',\n",
       " 'some',\n",
       " 'such',\n",
       " 'no',\n",
       " 'nor',\n",
       " 'not',\n",
       " 'only',\n",
       " 'own',\n",
       " 'same',\n",
       " 'so',\n",
       " 'than',\n",
       " 'too',\n",
       " 'very',\n",
       " 's',\n",
       " 't',\n",
       " 'can',\n",
       " 'will',\n",
       " 'just',\n",
       " 'don',\n",
       " \"don't\",\n",
       " 'should',\n",
       " \"should've\",\n",
       " 'now',\n",
       " 'd',\n",
       " 'll',\n",
       " 'm',\n",
       " 'o',\n",
       " 're',\n",
       " 've',\n",
       " 'y',\n",
       " 'ain',\n",
       " 'aren',\n",
       " \"aren't\",\n",
       " 'couldn',\n",
       " \"couldn't\",\n",
       " 'didn',\n",
       " \"didn't\",\n",
       " 'doesn',\n",
       " \"doesn't\",\n",
       " 'hadn',\n",
       " \"hadn't\",\n",
       " 'hasn',\n",
       " \"hasn't\",\n",
       " 'haven',\n",
       " \"haven't\",\n",
       " 'isn',\n",
       " \"isn't\",\n",
       " 'ma',\n",
       " 'mightn',\n",
       " \"mightn't\",\n",
       " 'mustn',\n",
       " \"mustn't\",\n",
       " 'needn',\n",
       " \"needn't\",\n",
       " 'shan',\n",
       " \"shan't\",\n",
       " 'shouldn',\n",
       " \"shouldn't\",\n",
       " 'wasn',\n",
       " \"wasn't\",\n",
       " 'weren',\n",
       " \"weren't\",\n",
       " 'won',\n",
       " \"won't\",\n",
       " 'wouldn',\n",
       " \"wouldn't\"]"
      ]
     },
     "execution_count": 7,
     "metadata": {},
     "output_type": "execute_result"
    }
   ],
   "source": [
    "from nltk.corpus import stopwords as urlphish_hyrderdw\n",
    "urlphish_hyrderdw_O = urlphish_hyrderdw.words('english')\n",
    "urlphish_hyrderdw_O"
   ]
  },
  {
   "cell_type": "code",
   "execution_count": 8,
   "metadata": {
    "colab": {
     "base_uri": "https://localhost:8080/"
    },
    "executionInfo": {
     "elapsed": 11,
     "status": "ok",
     "timestamp": 1699112580026,
     "user": {
      "displayName": "Jada Projects",
      "userId": "08763996031315654589"
     },
     "user_tz": -330
    },
    "id": "c-eeevHembSx",
    "outputId": "69b57729-de9e-46a9-d592-640de76e684f"
   },
   "outputs": [
    {
     "data": {
      "text/plain": [
       "<WordNetLemmatizer>"
      ]
     },
     "execution_count": 8,
     "metadata": {},
     "output_type": "execute_result"
    }
   ],
   "source": [
    "from nltk.stem.wordnet import WordNetLemmatizer as urlphish_hyrderdwwd\n",
    "urlphish_hyrderdwwd_O =urlphish_hyrderdwwd()\n",
    "urlphish_hyrderdwwd_O"
   ]
  },
  {
   "cell_type": "code",
   "execution_count": 9,
   "metadata": {
    "executionInfo": {
     "elapsed": 5,
     "status": "ok",
     "timestamp": 1699112580026,
     "user": {
      "displayName": "Jada Projects",
      "userId": "08763996031315654589"
     },
     "user_tz": -330
    },
    "id": "VL_F_zs4mbV6"
   },
   "outputs": [],
   "source": [
    "def hyrd(phiur):\n",
    "    phiur = phiur.lower()\n",
    "    phiur = urlphish_hyrdegre.sub(\"[^a-z]+\", \" \", phiur)\n",
    "    phiur = urlphish_hyrdegre.sub(r'www+', '', phiur)\n",
    "    phiur = \" \".join([kl for kl in phiur.split() if kl not in urlphish_hyrderdw_O])\n",
    "    phiur=' '.join([urlphish_hyrderdwwd_O.lemmatize(kl) for kl in phiur.split()])\n",
    "    return phiur"
   ]
  },
  {
   "cell_type": "code",
   "execution_count": 10,
   "metadata": {
    "colab": {
     "base_uri": "https://localhost:8080/",
     "height": 423
    },
    "executionInfo": {
     "elapsed": 23500,
     "status": "ok",
     "timestamp": 1699112603521,
     "user": {
      "displayName": "Jada Projects",
      "userId": "08763996031315654589"
     },
     "user_tz": -330
    },
    "id": "i1AMN5bKmbcf",
    "outputId": "e7b37548-c35f-452c-8121-5022e0dfac6c"
   },
   "outputs": [
    {
     "data": {
      "text/html": [
       "<div>\n",
       "<style scoped>\n",
       "    .dataframe tbody tr th:only-of-type {\n",
       "        vertical-align: middle;\n",
       "    }\n",
       "\n",
       "    .dataframe tbody tr th {\n",
       "        vertical-align: top;\n",
       "    }\n",
       "\n",
       "    .dataframe thead th {\n",
       "        text-align: right;\n",
       "    }\n",
       "</style>\n",
       "<table border=\"1\" class=\"dataframe\">\n",
       "  <thead>\n",
       "    <tr style=\"text-align: right;\">\n",
       "      <th></th>\n",
       "      <th>URL</th>\n",
       "      <th>Label</th>\n",
       "      <th>url_length</th>\n",
       "      <th>query_length</th>\n",
       "      <th>use_https</th>\n",
       "    </tr>\n",
       "  </thead>\n",
       "  <tbody>\n",
       "    <tr>\n",
       "      <th>0</th>\n",
       "      <td>nobell ffb dca cce f login skype com en cgi bi...</td>\n",
       "      <td>0</td>\n",
       "      <td>225</td>\n",
       "      <td>47</td>\n",
       "      <td>False</td>\n",
       "    </tr>\n",
       "    <tr>\n",
       "      <th>1</th>\n",
       "      <td>dghjdgf com paypal co uk cycgi bin webscrcmd h...</td>\n",
       "      <td>0</td>\n",
       "      <td>81</td>\n",
       "      <td>0</td>\n",
       "      <td>False</td>\n",
       "    </tr>\n",
       "    <tr>\n",
       "      <th>2</th>\n",
       "      <td>serviciosbys com paypal cgi bin get herf secur...</td>\n",
       "      <td>0</td>\n",
       "      <td>177</td>\n",
       "      <td>0</td>\n",
       "      <td>False</td>\n",
       "    </tr>\n",
       "    <tr>\n",
       "      <th>3</th>\n",
       "      <td>mail printakid com online americanexpress com ...</td>\n",
       "      <td>0</td>\n",
       "      <td>60</td>\n",
       "      <td>0</td>\n",
       "      <td>False</td>\n",
       "    </tr>\n",
       "    <tr>\n",
       "      <th>4</th>\n",
       "      <td>thewhiskeydregs com wp content theme widescree...</td>\n",
       "      <td>0</td>\n",
       "      <td>116</td>\n",
       "      <td>0</td>\n",
       "      <td>False</td>\n",
       "    </tr>\n",
       "    <tr>\n",
       "      <th>...</th>\n",
       "      <td>...</td>\n",
       "      <td>...</td>\n",
       "      <td>...</td>\n",
       "      <td>...</td>\n",
       "      <td>...</td>\n",
       "    </tr>\n",
       "    <tr>\n",
       "      <th>507191</th>\n",
       "      <td></td>\n",
       "      <td>0</td>\n",
       "      <td>15</td>\n",
       "      <td>0</td>\n",
       "      <td>False</td>\n",
       "    </tr>\n",
       "    <tr>\n",
       "      <th>507192</th>\n",
       "      <td>apple checker org</td>\n",
       "      <td>0</td>\n",
       "      <td>18</td>\n",
       "      <td>0</td>\n",
       "      <td>False</td>\n",
       "    </tr>\n",
       "    <tr>\n",
       "      <th>507193</th>\n",
       "      <td>apple iclods org</td>\n",
       "      <td>0</td>\n",
       "      <td>17</td>\n",
       "      <td>0</td>\n",
       "      <td>False</td>\n",
       "    </tr>\n",
       "    <tr>\n",
       "      <th>507194</th>\n",
       "      <td>apple uptoday org</td>\n",
       "      <td>0</td>\n",
       "      <td>18</td>\n",
       "      <td>0</td>\n",
       "      <td>False</td>\n",
       "    </tr>\n",
       "    <tr>\n",
       "      <th>507195</th>\n",
       "      <td>apple search info</td>\n",
       "      <td>0</td>\n",
       "      <td>17</td>\n",
       "      <td>0</td>\n",
       "      <td>False</td>\n",
       "    </tr>\n",
       "  </tbody>\n",
       "</table>\n",
       "<p>507196 rows × 5 columns</p>\n",
       "</div>"
      ],
      "text/plain": [
       "                                                      URL  Label  url_length  \\\n",
       "0       nobell ffb dca cce f login skype com en cgi bi...      0         225   \n",
       "1       dghjdgf com paypal co uk cycgi bin webscrcmd h...      0          81   \n",
       "2       serviciosbys com paypal cgi bin get herf secur...      0         177   \n",
       "3       mail printakid com online americanexpress com ...      0          60   \n",
       "4       thewhiskeydregs com wp content theme widescree...      0         116   \n",
       "...                                                   ...    ...         ...   \n",
       "507191                                                         0          15   \n",
       "507192                                  apple checker org      0          18   \n",
       "507193                                   apple iclods org      0          17   \n",
       "507194                                  apple uptoday org      0          18   \n",
       "507195                                  apple search info      0          17   \n",
       "\n",
       "        query_length  use_https  \n",
       "0                 47      False  \n",
       "1                  0      False  \n",
       "2                  0      False  \n",
       "3                  0      False  \n",
       "4                  0      False  \n",
       "...              ...        ...  \n",
       "507191             0      False  \n",
       "507192             0      False  \n",
       "507193             0      False  \n",
       "507194             0      False  \n",
       "507195             0      False  \n",
       "\n",
       "[507196 rows x 5 columns]"
      ]
     },
     "execution_count": 10,
     "metadata": {},
     "output_type": "execute_result"
    }
   ],
   "source": [
    "LIS=[]\n",
    "for nc in urlphish_hyrd['URL']:\n",
    "    LIS.append(hyrd(nc))\n",
    "urlphish_hyrd['URL']=LIS\n",
    "urlphish_hyrd"
   ]
  },
  {
   "cell_type": "code",
   "execution_count": 11,
   "metadata": {
    "executionInfo": {
     "elapsed": 24,
     "status": "ok",
     "timestamp": 1699112603521,
     "user": {
      "displayName": "Jada Projects",
      "userId": "08763996031315654589"
     },
     "user_tz": -330
    },
    "id": "LQC3i1WZmbf0"
   },
   "outputs": [],
   "source": [
    "input_hybrid= urlphish_hyrd['URL']\n",
    "output_hybrid= urlphish_hyrd['Label']"
   ]
  },
  {
   "cell_type": "markdown",
   "metadata": {
    "id": "6ZYHKfYfsKlb"
   },
   "source": [
    "# **Convert text into numpy array format**"
   ]
  },
  {
   "cell_type": "code",
   "execution_count": 12,
   "metadata": {
    "colab": {
     "base_uri": "https://localhost:8080/"
    },
    "executionInfo": {
     "elapsed": 23763,
     "status": "ok",
     "timestamp": 1699112627262,
     "user": {
      "displayName": "Jada Projects",
      "userId": "08763996031315654589"
     },
     "user_tz": -330
    },
    "id": "4_IpA8nIrQEQ",
    "outputId": "278cdd9b-f793-4f14-ab8a-af9709b2df5b"
   },
   "outputs": [
    {
     "data": {
      "text/plain": [
       "array([[0.59150101, 0.21268268, 0.12586521, ..., 0.04959343, 0.03488555,\n",
       "        0.        ],\n",
       "       [0.53426918, 0.19850762, 0.14684555, ..., 0.        , 0.16280234,\n",
       "        0.        ],\n",
       "       [0.54090429, 0.10485542, 0.07756656, ..., 0.        , 0.08599523,\n",
       "        0.07336024],\n",
       "       ...,\n",
       "       [0.3360022 , 0.18726234, 0.        , ..., 0.        , 0.        ,\n",
       "        0.        ],\n",
       "       [0.28892266, 0.32204749, 0.        , ..., 0.        , 0.26412127,\n",
       "        0.        ],\n",
       "       [0.32811898, 0.36573765, 0.        , ..., 0.        , 0.        ,\n",
       "        0.        ]])"
      ]
     },
     "execution_count": 12,
     "metadata": {},
     "output_type": "execute_result"
    }
   ],
   "source": [
    "from sklearn.feature_extraction.text import TfidfVectorizer as urlphish_hyrdervcidf\n",
    "urlphish_hyrdervcidf_O = urlphish_hyrdervcidf(analyzer='char')\n",
    "input_hybrid = urlphish_hyrdervcidf_O.fit_transform(input_hybrid.values.astype('U')).toarray()\n",
    "input_hybrid"
   ]
  },
  {
   "cell_type": "markdown",
   "metadata": {
    "id": "tROfE5O8sKFH"
   },
   "source": [
    "**Data splitting**"
   ]
  },
  {
   "cell_type": "code",
   "execution_count": 13,
   "metadata": {
    "colab": {
     "base_uri": "https://localhost:8080/"
    },
    "executionInfo": {
     "elapsed": 866,
     "status": "ok",
     "timestamp": 1699112628112,
     "user": {
      "displayName": "Jada Projects",
      "userId": "08763996031315654589"
     },
     "user_tz": -330
    },
    "id": "2Nh9-VRwrQIw",
    "outputId": "2495d10d-19ad-40aa-8c87-a299b056189a"
   },
   "outputs": [
    {
     "name": "stdout",
     "output_type": "stream",
     "text": [
      "(304317, 27)\n",
      "(101439, 27)\n",
      "(101440, 27)\n"
     ]
    }
   ],
   "source": [
    "from sklearn.model_selection import train_test_split as urlphish_hyrderios\n",
    "\n",
    "hish_hyrd_R = 99\n",
    "hish_hyrd_Sa =0.4\n",
    "#...... train= 60% ...........\n",
    "inputN_hybrid, inputS_hybrid, outputN_hybrid, outputS_hybrid = urlphish_hyrderios(input_hybrid, output_hybrid, test_size=hish_hyrd_Sa, random_state= hish_hyrd_R)\n",
    "hish_hyrd_Sb =0.5\n",
    "#......  test= 20% ,validation= 20% ............\n",
    "inputV_hybrid, inputS_hybrid, outputV_hybrid, outputS_hybrid = urlphish_hyrderios(inputS_hybrid, outputS_hybrid, test_size=hish_hyrd_Sb, random_state= hish_hyrd_R)\n",
    "\n",
    "\n",
    "print(inputN_hybrid.shape)\n",
    "print(inputV_hybrid.shape)\n",
    "print(inputS_hybrid.shape)"
   ]
  },
  {
   "cell_type": "code",
   "execution_count": 14,
   "metadata": {
    "executionInfo": {
     "elapsed": 19,
     "status": "ok",
     "timestamp": 1699112628113,
     "user": {
      "displayName": "Jada Projects",
      "userId": "08763996031315654589"
     },
     "user_tz": -330
    },
    "id": "-dWOqeResCX4"
   },
   "outputs": [],
   "source": [
    "from sklearn.metrics import classification_report as urlphish_hyrder_E1\n",
    "from sklearn.metrics import confusion_matrix as urlphish_hyrder_E2\n",
    "from sklearn.metrics import ConfusionMatrixDisplay as urlphish_hyrder_E3\n",
    "import time as urlphish_hyrder_E4\n",
    "from sklearn.model_selection import GridSearchCV as urlphish_hyrder_E5"
   ]
  },
  {
   "cell_type": "markdown",
   "metadata": {
    "id": "eOX2jblIELGU"
   },
   "source": [
    "# Implementing ML"
   ]
  },
  {
   "cell_type": "markdown",
   "metadata": {
    "id": "FAks5lAxtqpz"
   },
   "source": [
    "# A. Adaboost"
   ]
  },
  {
   "cell_type": "code",
   "execution_count": 15,
   "metadata": {
    "colab": {
     "base_uri": "https://localhost:8080/"
    },
    "executionInfo": {
     "elapsed": 23296,
     "status": "ok",
     "timestamp": 1699112651392,
     "user": {
      "displayName": "Jada Projects",
      "userId": "08763996031315654589"
     },
     "user_tz": -330
    },
    "id": "TiOs6TW_sCbm",
    "outputId": "364cb7b2-40f2-4b14-e973-ab3054d2a889"
   },
   "outputs": [
    {
     "name": "stdout",
     "output_type": "stream",
     "text": [
      "{'algorithm': 'SAMME.R', 'learning_rate': 1.0, 'n_estimators': 20}\n",
      "score_value :  0.8162333333333334\n"
     ]
    }
   ],
   "source": [
    "from sklearn.ensemble import AdaBoostClassifier as urlphish_hyrder_E6\n",
    "\n",
    "urlphish_vrt = {'n_estimators': [5, 10, 20],\n",
    "               'algorithm': ['SAMME.R','SAMME'],\n",
    "                'learning_rate': [1.0,2.0,3.0]}\n",
    "urlphish_vrtr = urlphish_hyrder_E6(random_state=hish_hyrd_R)\n",
    "urlphish_vrtr = urlphish_hyrder_E5(urlphish_vrtr, urlphish_vrt, cv=2)\n",
    "urlphish_vrtr.fit(inputN_hybrid[:30000], outputN_hybrid[:30000])\n",
    "\n",
    "print(urlphish_vrtr.best_params_)\n",
    "print(\"score_value : \", urlphish_vrtr.best_score_)"
   ]
  },
  {
   "cell_type": "code",
   "execution_count": 16,
   "metadata": {
    "colab": {
     "base_uri": "https://localhost:8080/",
     "height": 709
    },
    "executionInfo": {
     "elapsed": 22346,
     "status": "ok",
     "timestamp": 1699112673684,
     "user": {
      "displayName": "Jada Projects",
      "userId": "08763996031315654589"
     },
     "user_tz": -330
    },
    "id": "TgIBQ7B_sCez",
    "outputId": "6c349ec4-12d2-4293-ca65-e853b2242100"
   },
   "outputs": [
    {
     "name": "stdout",
     "output_type": "stream",
     "text": [
      "\n",
      " Training------time : 55.5624520778656 \n",
      "\n",
      "              precision    recall  f1-score   support\n",
      "\n",
      "           0       0.70      0.36      0.48     22821\n",
      "           1       0.84      0.96      0.89     78618\n",
      "\n",
      "    accuracy                           0.82    101439\n",
      "   macro avg       0.77      0.66      0.68    101439\n",
      "weighted avg       0.81      0.82      0.80    101439\n",
      "\n",
      "\n",
      " validation--------time  : 11.425565958023071 \n",
      "\n"
     ]
    },
    {
     "data": {
      "image/png": "[encoded data removed]",
      "text/plain": [
       "<Figure size 640x480 with 2 Axes>"
      ]
     },
     "metadata": {},
     "output_type": "display_data"
    }
   ],
   "source": [
    "urlphish_hyrder_a = urlphish_hyrder_E4.time()\n",
    "hyrder_A = urlphish_hyrder_E6(**urlphish_vrtr.best_params_)\n",
    "hyrder_A.fit(inputN_hybrid, outputN_hybrid)\n",
    "\n",
    "urlphish_hyrder_b = urlphish_hyrder_E4.time()\n",
    "print(\"\\n Training------time :\", urlphish_hyrder_b-urlphish_hyrder_a,\"\\n\")\n",
    "\n",
    "urlphish_hyrder_a = urlphish_hyrder_E4.time()\n",
    "\n",
    "P_hybrid = hyrder_A.predict(inputV_hybrid)\n",
    "print(urlphish_hyrder_E1(outputV_hybrid, P_hybrid))\n",
    "E2 = urlphish_hyrder_E2(outputV_hybrid, P_hybrid)\n",
    "E3 = urlphish_hyrder_E3(confusion_matrix = E2, display_labels = [0, 1])\n",
    "E3.plot()\n",
    "\n",
    "urlphish_hyrder_b = urlphish_hyrder_E4.time()\n",
    "print(\"\\n validation--------time  :\", urlphish_hyrder_b-urlphish_hyrder_a,\"\\n\")"
   ]
  },
  {
   "cell_type": "code",
   "execution_count": 17,
   "metadata": {
    "colab": {
     "base_uri": "https://localhost:8080/",
     "height": 657
    },
    "executionInfo": {
     "elapsed": 1387,
     "status": "ok",
     "timestamp": 1699112675045,
     "user": {
      "displayName": "Jada Projects",
      "userId": "08763996031315654589"
     },
     "user_tz": -330
    },
    "id": "an-JdOnWsCiF",
    "outputId": "b706cdbe-22e0-4154-d78d-45adf7589479"
   },
   "outputs": [
    {
     "name": "stdout",
     "output_type": "stream",
     "text": [
      "              precision    recall  f1-score   support\n",
      "\n",
      "           0       0.70      0.36      0.47     22845\n",
      "           1       0.84      0.96      0.89     78595\n",
      "\n",
      "    accuracy                           0.82    101440\n",
      "   macro avg       0.77      0.66      0.68    101440\n",
      "weighted avg       0.81      0.82      0.80    101440\n",
      "\n",
      "\n",
      " testing--------time  : 1.5508637428283691 \n",
      "\n"
     ]
    },
    {
     "data": {
      "image/png": "[encoded data removed]",
      "text/plain": [
       "<Figure size 640x480 with 2 Axes>"
      ]
     },
     "metadata": {},
     "output_type": "display_data"
    }
   ],
   "source": [
    "urlphish_hyrder_a = urlphish_hyrder_E4.time()\n",
    "\n",
    "P_hybrid = hyrder_A.predict(inputS_hybrid)\n",
    "print(urlphish_hyrder_E1(outputS_hybrid, P_hybrid))\n",
    "E2 = urlphish_hyrder_E2(outputS_hybrid, P_hybrid)\n",
    "E3 = urlphish_hyrder_E3(confusion_matrix = E2, display_labels = [0, 1])\n",
    "E3.plot()\n",
    "\n",
    "urlphish_hyrder_b = urlphish_hyrder_E4.time()\n",
    "print(\"\\n testing--------time  :\", urlphish_hyrder_b-urlphish_hyrder_a,\"\\n\")"
   ]
  },
  {
   "cell_type": "markdown",
   "metadata": {
    "id": "MfDtwXo_wNxI"
   },
   "source": [
    "# B. Random Forest"
   ]
  },
  {
   "cell_type": "code",
   "execution_count": 18,
   "metadata": {
    "colab": {
     "base_uri": "https://localhost:8080/"
    },
    "executionInfo": {
     "elapsed": 37151,
     "status": "ok",
     "timestamp": 1699112766452,
     "user": {
      "displayName": "Jada Projects",
      "userId": "08763996031315654589"
     },
     "user_tz": -330
    },
    "id": "ekPfUC8gwHoq",
    "outputId": "bf25918a-f61b-4e6b-b267-1a8dca5a1b09"
   },
   "outputs": [
    {
     "name": "stdout",
     "output_type": "stream",
     "text": [
      "{'criterion': 'entropy', 'n_estimators': 20, 'n_jobs': 10}\n",
      "score_value :  0.8444333333333334\n"
     ]
    }
   ],
   "source": [
    "from sklearn.ensemble import RandomForestClassifier as urlphish_hyrder_E7\n",
    "\n",
    "urlphish_vrt = {'n_estimators': [5, 10, 20],\n",
    "               'criterion': ['gini', 'entropy', 'log_loss'],\n",
    "                'n_jobs': [10, 20, 5]}\n",
    "urlphish_vrtr = urlphish_hyrder_E7(random_state=hish_hyrd_R)\n",
    "urlphish_vrtr = urlphish_hyrder_E5(urlphish_vrtr, urlphish_vrt, cv=2)\n",
    "urlphish_vrtr.fit(inputN_hybrid[:30000], outputN_hybrid[:30000])\n",
    "\n",
    "print(urlphish_vrtr.best_params_)\n",
    "print(\"score_value : \", urlphish_vrtr.best_score_)"
   ]
  },
  {
   "cell_type": "code",
   "execution_count": 19,
   "metadata": {
    "colab": {
     "base_uri": "https://localhost:8080/",
     "height": 709
    },
    "executionInfo": {
     "elapsed": 37706,
     "status": "ok",
     "timestamp": 1699112819468,
     "user": {
      "displayName": "Jada Projects",
      "userId": "08763996031315654589"
     },
     "user_tz": -330
    },
    "id": "qYR6Q_sawcss",
    "outputId": "ddddeaaf-2251-4623-bd75-040efad90404"
   },
   "outputs": [
    {
     "name": "stdout",
     "output_type": "stream",
     "text": [
      "\n",
      " Training------time : 30.329610586166382 \n",
      "\n",
      "              precision    recall  f1-score   support\n",
      "\n",
      "           0       0.86      0.57      0.69     22821\n",
      "           1       0.89      0.97      0.93     78618\n",
      "\n",
      "    accuracy                           0.88    101439\n",
      "   macro avg       0.87      0.77      0.81    101439\n",
      "weighted avg       0.88      0.88      0.87    101439\n",
      "\n",
      "\n",
      " validation--------time  : 0.9457206726074219 \n",
      "\n"
     ]
    },
    {
     "data": {
      "image/png": "[encoded data removed]",
      "text/plain": [
       "<Figure size 640x480 with 2 Axes>"
      ]
     },
     "metadata": {},
     "output_type": "display_data"
    }
   ],
   "source": [
    "urlphish_hyrder_a = urlphish_hyrder_E4.time()\n",
    "hyrder_B = urlphish_hyrder_E7(**urlphish_vrtr.best_params_)\n",
    "hyrder_B.fit(inputN_hybrid, outputN_hybrid)\n",
    "\n",
    "urlphish_hyrder_b = urlphish_hyrder_E4.time()\n",
    "print(\"\\n Training------time :\", urlphish_hyrder_b-urlphish_hyrder_a,\"\\n\")\n",
    "\n",
    "urlphish_hyrder_a = urlphish_hyrder_E4.time()\n",
    "\n",
    "P_hybrid = hyrder_B.predict(inputV_hybrid)\n",
    "print(urlphish_hyrder_E1(outputV_hybrid, P_hybrid))\n",
    "E2 = urlphish_hyrder_E2(outputV_hybrid, P_hybrid)\n",
    "E3 = urlphish_hyrder_E3(confusion_matrix = E2, display_labels = [0, 1])\n",
    "E3.plot()\n",
    "\n",
    "urlphish_hyrder_b = urlphish_hyrder_E4.time()\n",
    "print(\"\\n validation--------time  :\", urlphish_hyrder_b-urlphish_hyrder_a,\"\\n\")"
   ]
  },
  {
   "cell_type": "code",
   "execution_count": 20,
   "metadata": {
    "colab": {
     "base_uri": "https://localhost:8080/",
     "height": 657
    },
    "executionInfo": {
     "elapsed": 928,
     "status": "ok",
     "timestamp": 1699112824948,
     "user": {
      "displayName": "Jada Projects",
      "userId": "08763996031315654589"
     },
     "user_tz": -330
    },
    "id": "2XWMTTm5wHsY",
    "outputId": "606fc488-ae30-429c-a977-e9e21b1a2968"
   },
   "outputs": [
    {
     "name": "stdout",
     "output_type": "stream",
     "text": [
      "              precision    recall  f1-score   support\n",
      "\n",
      "           0       0.86      0.57      0.69     22845\n",
      "           1       0.89      0.97      0.93     78595\n",
      "\n",
      "    accuracy                           0.88    101440\n",
      "   macro avg       0.87      0.77      0.81    101440\n",
      "weighted avg       0.88      0.88      0.87    101440\n",
      "\n",
      "\n",
      " testing--------time  : 0.9962553977966309 \n",
      "\n"
     ]
    },
    {
     "data": {
      "image/png": "[encoded data removed]",
      "text/plain": [
       "<Figure size 640x480 with 2 Axes>"
      ]
     },
     "metadata": {},
     "output_type": "display_data"
    }
   ],
   "source": [
    "urlphish_hyrder_a = urlphish_hyrder_E4.time()\n",
    "\n",
    "P_hybrid = hyrder_B.predict(inputS_hybrid)\n",
    "print(urlphish_hyrder_E1(outputS_hybrid, P_hybrid))\n",
    "E2 = urlphish_hyrder_E2(outputS_hybrid, P_hybrid)\n",
    "E3 = urlphish_hyrder_E3(confusion_matrix = E2, display_labels = [0, 1])\n",
    "E3.plot()\n",
    "\n",
    "urlphish_hyrder_b = urlphish_hyrder_E4.time()\n",
    "print(\"\\n testing--------time  :\", urlphish_hyrder_b-urlphish_hyrder_a,\"\\n\")"
   ]
  },
  {
   "cell_type": "markdown",
   "metadata": {
    "id": "Rt64_R70wO1V"
   },
   "source": [
    "# C. Gaussian naive bayes"
   ]
  },
  {
   "cell_type": "code",
   "execution_count": 21,
   "metadata": {
    "colab": {
     "base_uri": "https://localhost:8080/"
    },
    "executionInfo": {
     "elapsed": 438,
     "status": "ok",
     "timestamp": 1699114963854,
     "user": {
      "displayName": "Jada Projects",
      "userId": "08763996031315654589"
     },
     "user_tz": -330
    },
    "id": "7dfs-ESKwHuq",
    "outputId": "b547567a-0d6c-4609-db1d-c2fd48eeeffb"
   },
   "outputs": [
    {
     "name": "stdout",
     "output_type": "stream",
     "text": [
      "{'var_smoothing': 1.0}\n",
      "score_value :  0.8007333333333333\n"
     ]
    }
   ],
   "source": [
    "from sklearn.naive_bayes import GaussianNB as urlphish_hyrder_E8\n",
    "\n",
    "urlphish_vrt = {'var_smoothing': [1.0, 0.01, 0.1]}\n",
    "urlphish_vrtr = urlphish_hyrder_E8()\n",
    "urlphish_vrtr = urlphish_hyrder_E5(urlphish_vrtr, urlphish_vrt, cv=2)\n",
    "urlphish_vrtr.fit(inputN_hybrid[:30000], outputN_hybrid[:30000])\n",
    "\n",
    "print(urlphish_vrtr.best_params_)\n",
    "print(\"score_value : \", urlphish_vrtr.best_score_)"
   ]
  },
  {
   "cell_type": "code",
   "execution_count": 22,
   "metadata": {
    "colab": {
     "base_uri": "https://localhost:8080/",
     "height": 709
    },
    "executionInfo": {
     "elapsed": 742,
     "status": "ok",
     "timestamp": 1699114967976,
     "user": {
      "displayName": "Jada Projects",
      "userId": "08763996031315654589"
     },
     "user_tz": -330
    },
    "id": "8S1NC-QkwdnD",
    "outputId": "ddef5c1c-f54f-409f-cfc1-310941dfa0d9"
   },
   "outputs": [
    {
     "name": "stdout",
     "output_type": "stream",
     "text": [
      "\n",
      " Training------time : 0.22026729583740234 \n",
      "\n",
      "              precision    recall  f1-score   support\n",
      "\n",
      "           0       0.51      0.49      0.50     22821\n",
      "           1       0.85      0.86      0.86     78618\n",
      "\n",
      "    accuracy                           0.78    101439\n",
      "   macro avg       0.68      0.67      0.68    101439\n",
      "weighted avg       0.78      0.78      0.78    101439\n",
      "\n",
      "\n",
      " validation--------time  : 0.31662487983703613 \n",
      "\n"
     ]
    },
    {
     "data": {
      "image/png": "[encoded data removed]",
      "text/plain": [
       "<Figure size 640x480 with 2 Axes>"
      ]
     },
     "metadata": {},
     "output_type": "display_data"
    }
   ],
   "source": [
    "urlphish_hyrder_a = urlphish_hyrder_E4.time()\n",
    "hyrder_C = urlphish_hyrder_E8()\n",
    "hyrder_C.fit(inputN_hybrid, outputN_hybrid)\n",
    "\n",
    "urlphish_hyrder_b = urlphish_hyrder_E4.time()\n",
    "print(\"\\n Training------time :\", urlphish_hyrder_b-urlphish_hyrder_a,\"\\n\")\n",
    "\n",
    "urlphish_hyrder_a = urlphish_hyrder_E4.time()\n",
    "\n",
    "P_hybrid = hyrder_C.predict(inputV_hybrid)\n",
    "print(urlphish_hyrder_E1(outputV_hybrid, P_hybrid))\n",
    "E2 = urlphish_hyrder_E2(outputV_hybrid, P_hybrid)\n",
    "E3 = urlphish_hyrder_E3(confusion_matrix = E2, display_labels = [0, 1])\n",
    "E3.plot()\n",
    "\n",
    "urlphish_hyrder_b = urlphish_hyrder_E4.time()\n",
    "print(\"\\n validation--------time  :\", urlphish_hyrder_b-urlphish_hyrder_a,\"\\n\")"
   ]
  },
  {
   "cell_type": "code",
   "execution_count": 23,
   "metadata": {
    "colab": {
     "base_uri": "https://localhost:8080/",
     "height": 657
    },
    "executionInfo": {
     "elapsed": 603,
     "status": "ok",
     "timestamp": 1699114972027,
     "user": {
      "displayName": "Jada Projects",
      "userId": "08763996031315654589"
     },
     "user_tz": -330
    },
    "id": "oj5boCL8wHyB",
    "outputId": "1564976b-d1cf-426a-d701-dc0235e665dc"
   },
   "outputs": [
    {
     "name": "stdout",
     "output_type": "stream",
     "text": [
      "              precision    recall  f1-score   support\n",
      "\n",
      "           0       0.52      0.49      0.50     22845\n",
      "           1       0.85      0.87      0.86     78595\n",
      "\n",
      "    accuracy                           0.78    101440\n",
      "   macro avg       0.68      0.68      0.68    101440\n",
      "weighted avg       0.78      0.78      0.78    101440\n",
      "\n",
      "\n",
      " testing--------time  : 0.39297938346862793 \n",
      "\n"
     ]
    },
    {
     "data": {
      "image/png": "[encoded data removed]",
      "text/plain": [
       "<Figure size 640x480 with 2 Axes>"
      ]
     },
     "metadata": {},
     "output_type": "display_data"
    }
   ],
   "source": [
    "urlphish_hyrder_a = urlphish_hyrder_E4.time()\n",
    "\n",
    "P_hybrid = hyrder_C.predict(inputS_hybrid)\n",
    "print(urlphish_hyrder_E1(outputS_hybrid, P_hybrid))\n",
    "E2 = urlphish_hyrder_E2(outputS_hybrid, P_hybrid)\n",
    "E3 = urlphish_hyrder_E3(confusion_matrix = E2, display_labels = [0, 1])\n",
    "E3.plot()\n",
    "\n",
    "urlphish_hyrder_b = urlphish_hyrder_E4.time()\n",
    "print(\"\\n testing--------time  :\", urlphish_hyrder_b-urlphish_hyrder_a,\"\\n\")"
   ]
  },
  {
   "cell_type": "markdown",
   "metadata": {
    "id": "oBWN5EtmwPra"
   },
   "source": [
    "# D. Decision tree"
   ]
  },
  {
   "cell_type": "code",
   "execution_count": 24,
   "metadata": {
    "colab": {
     "base_uri": "https://localhost:8080/"
    },
    "executionInfo": {
     "elapsed": 2460,
     "status": "ok",
     "timestamp": 1699113771645,
     "user": {
      "displayName": "Jada Projects",
      "userId": "08763996031315654589"
     },
     "user_tz": -330
    },
    "id": "SvPw39ppwH1I",
    "outputId": "5889b481-c117-4d63-fbdb-0b842602e9f3"
   },
   "outputs": [
    {
     "name": "stdout",
     "output_type": "stream",
     "text": [
      "{'criterion': 'entropy', 'max_features': 'auto', 'splitter': 'best'}\n",
      "score_value :  0.7644666666666666\n"
     ]
    }
   ],
   "source": [
    "from sklearn.tree import DecisionTreeClassifier as urlphish_hyrder_E9\n",
    "\n",
    "urlphish_vrt = {'criterion': ['gini','entropy','log_loss'],\n",
    "               'max_features': ['auto','sqrt','log2'],\n",
    "                'splitter': ['best','random']}\n",
    "urlphish_vrtr = urlphish_hyrder_E9(random_state=hish_hyrd_R)\n",
    "urlphish_vrtr = urlphish_hyrder_E5(urlphish_vrtr, urlphish_vrt, cv=2)\n",
    "urlphish_vrtr.fit(inputN_hybrid[:30000], outputN_hybrid[:30000])\n",
    "\n",
    "print(urlphish_vrtr.best_params_)\n",
    "print(\"score_value : \", urlphish_vrtr.best_score_)"
   ]
  },
  {
   "cell_type": "code",
   "execution_count": 25,
   "metadata": {
    "colab": {
     "base_uri": "https://localhost:8080/",
     "height": 709
    },
    "executionInfo": {
     "elapsed": 3792,
     "status": "ok",
     "timestamp": 1699113792576,
     "user": {
      "displayName": "Jada Projects",
      "userId": "08763996031315654589"
     },
     "user_tz": -330
    },
    "id": "n0HWfxNqweQf",
    "outputId": "b14edc89-6e2f-42a3-cabb-8bbad06f3738"
   },
   "outputs": [
    {
     "name": "stdout",
     "output_type": "stream",
     "text": [
      "\n",
      " Training------time : 6.281498193740845 \n",
      "\n",
      "              precision    recall  f1-score   support\n",
      "\n",
      "           0       0.58      0.59      0.59     22821\n",
      "           1       0.88      0.88      0.88     78618\n",
      "\n",
      "    accuracy                           0.81    101439\n",
      "   macro avg       0.73      0.73      0.73    101439\n",
      "weighted avg       0.81      0.81      0.81    101439\n",
      "\n",
      "\n",
      " validation--------time  : 0.2959744930267334 \n",
      "\n"
     ]
    },
    {
     "data": {
      "image/png": "[encoded data removed]",
      "text/plain": [
       "<Figure size 640x480 with 2 Axes>"
      ]
     },
     "metadata": {},
     "output_type": "display_data"
    }
   ],
   "source": [
    "urlphish_hyrder_a = urlphish_hyrder_E4.time()\n",
    "hyrder_D = urlphish_hyrder_E9(**urlphish_vrtr.best_params_)\n",
    "hyrder_D.fit(inputN_hybrid, outputN_hybrid)\n",
    "\n",
    "urlphish_hyrder_b = urlphish_hyrder_E4.time()\n",
    "print(\"\\n Training------time :\", urlphish_hyrder_b-urlphish_hyrder_a,\"\\n\")\n",
    "\n",
    "urlphish_hyrder_a = urlphish_hyrder_E4.time()\n",
    "\n",
    "P_hybrid = hyrder_D.predict(inputV_hybrid)\n",
    "print(urlphish_hyrder_E1(outputV_hybrid, P_hybrid))\n",
    "E2 = urlphish_hyrder_E2(outputV_hybrid, P_hybrid)\n",
    "E3 = urlphish_hyrder_E3(confusion_matrix = E2, display_labels = [0, 1])\n",
    "E3.plot()\n",
    "\n",
    "urlphish_hyrder_b = urlphish_hyrder_E4.time()\n",
    "print(\"\\n validation--------time  :\", urlphish_hyrder_b-urlphish_hyrder_a,\"\\n\")"
   ]
  },
  {
   "cell_type": "code",
   "execution_count": 26,
   "metadata": {
    "colab": {
     "base_uri": "https://localhost:8080/",
     "height": 657
    },
    "executionInfo": {
     "elapsed": 525,
     "status": "ok",
     "timestamp": 1699113796822,
     "user": {
      "displayName": "Jada Projects",
      "userId": "08763996031315654589"
     },
     "user_tz": -330
    },
    "id": "G8rNYDUqweUU",
    "outputId": "ebea3e8b-2495-455a-8096-b09568e78709"
   },
   "outputs": [
    {
     "name": "stdout",
     "output_type": "stream",
     "text": [
      "              precision    recall  f1-score   support\n",
      "\n",
      "           0       0.58      0.60      0.59     22845\n",
      "           1       0.88      0.87      0.88     78595\n",
      "\n",
      "    accuracy                           0.81    101440\n",
      "   macro avg       0.73      0.74      0.73    101440\n",
      "weighted avg       0.81      0.81      0.81    101440\n",
      "\n",
      "\n",
      " testing--------time  : 0.37311887741088867 \n",
      "\n"
     ]
    },
    {
     "data": {
      "image/png": "[encoded data removed]",
      "text/plain": [
       "<Figure size 640x480 with 2 Axes>"
      ]
     },
     "metadata": {},
     "output_type": "display_data"
    }
   ],
   "source": [
    "urlphish_hyrder_a = urlphish_hyrder_E4.time()\n",
    "\n",
    "P_hybrid = hyrder_D.predict(inputS_hybrid)\n",
    "print(urlphish_hyrder_E1(outputS_hybrid, P_hybrid))\n",
    "E2 = urlphish_hyrder_E2(outputS_hybrid, P_hybrid)\n",
    "E3 = urlphish_hyrder_E3(confusion_matrix = E2, display_labels = [0, 1])\n",
    "E3.plot()\n",
    "\n",
    "urlphish_hyrder_b = urlphish_hyrder_E4.time()\n",
    "print(\"\\n testing--------time  :\", urlphish_hyrder_b-urlphish_hyrder_a,\"\\n\")"
   ]
  },
  {
   "cell_type": "markdown",
   "metadata": {
    "id": "AxndWpG5EPnb"
   },
   "source": [
    "# Implementing DL"
   ]
  },
  {
   "cell_type": "markdown",
   "metadata": {
    "id": "QmwsDyOyERXP"
   },
   "source": [
    "# A. MLP"
   ]
  },
  {
   "cell_type": "code",
   "execution_count": 27,
   "metadata": {
    "colab": {
     "base_uri": "https://localhost:8080/"
    },
    "executionInfo": {
     "elapsed": 34927,
     "status": "ok",
     "timestamp": 1699114393113,
     "user": {
      "displayName": "Jada Projects",
      "userId": "08763996031315654589"
     },
     "user_tz": -330
    },
    "id": "LQxkmvakERyV",
    "outputId": "5d16604d-258c-4941-dddf-fd7dbce5f68e"
   },
   "outputs": [
    {
     "name": "stdout",
     "output_type": "stream",
     "text": [
      "{'activation': 'relu', 'learning_rate': 'constant', 'solver': 'adam'}\n",
      "score_value :  0.79\n"
     ]
    }
   ],
   "source": [
    "from sklearn.neural_network import MLPClassifier as urlphish_hyrder_E10\n",
    "\n",
    "urlphish_vrt = {'activation': ['identity','tanh','relu'],\n",
    "               'solver': ['lbfgs','sgd','adam'],\n",
    "                'learning_rate': ['constant','invscaling','adaptive']}\n",
    "urlphish_vrtr = urlphish_hyrder_E10(random_state=hish_hyrd_R)\n",
    "urlphish_vrtr = urlphish_hyrder_E5(urlphish_vrtr, urlphish_vrt, cv=2)\n",
    "urlphish_vrtr.fit(inputN_hybrid[:1000], outputN_hybrid[:1000])\n",
    "\n",
    "print(urlphish_vrtr.best_params_)\n",
    "print(\"score_value : \", urlphish_vrtr.best_score_)"
   ]
  },
  {
   "cell_type": "code",
   "execution_count": 28,
   "metadata": {
    "colab": {
     "base_uri": "https://localhost:8080/",
     "height": 709
    },
    "executionInfo": {
     "elapsed": 44253,
     "status": "ok",
     "timestamp": 1699114458850,
     "user": {
      "displayName": "Jada Projects",
      "userId": "08763996031315654589"
     },
     "user_tz": -330
    },
    "id": "adjXuNU7ER68",
    "outputId": "10d3bfe5-fd86-44b3-8991-f343a4632869"
   },
   "outputs": [
    {
     "name": "stdout",
     "output_type": "stream",
     "text": [
      "\n",
      " Training------time : 2138.4039590358734 \n",
      "\n",
      "              precision    recall  f1-score   support\n",
      "\n",
      "           0       0.75      0.59      0.66     22821\n",
      "           1       0.89      0.94      0.91     78618\n",
      "\n",
      "    accuracy                           0.86    101439\n",
      "   macro avg       0.82      0.77      0.79    101439\n",
      "weighted avg       0.86      0.86      0.86    101439\n",
      "\n",
      "\n",
      " validation--------time  : 2.0952529907226562 \n",
      "\n"
     ]
    },
    {
     "data": {
      "image/png": "[encoded data removed]",
      "text/plain": [
       "<Figure size 640x480 with 2 Axes>"
      ]
     },
     "metadata": {},
     "output_type": "display_data"
    }
   ],
   "source": [
    "urlphish_hyrder_a = urlphish_hyrder_E4.time()\n",
    "hyrder_E = urlphish_hyrder_E10(**urlphish_vrtr.best_params_)\n",
    "hyrder_E.fit(inputN_hybrid, outputN_hybrid)\n",
    "\n",
    "urlphish_hyrder_b = urlphish_hyrder_E4.time()\n",
    "print(\"\\n Training------time :\", urlphish_hyrder_b-urlphish_hyrder_a,\"\\n\")\n",
    "\n",
    "urlphish_hyrder_a = urlphish_hyrder_E4.time()\n",
    "\n",
    "P_hybrid = hyrder_E.predict(inputV_hybrid)\n",
    "print(urlphish_hyrder_E1(outputV_hybrid, P_hybrid))\n",
    "E2 = urlphish_hyrder_E2(outputV_hybrid, P_hybrid)\n",
    "E3 = urlphish_hyrder_E3(confusion_matrix = E2, display_labels = [0, 1])\n",
    "E3.plot()\n",
    "\n",
    "urlphish_hyrder_b = urlphish_hyrder_E4.time()\n",
    "print(\"\\n validation--------time  :\", urlphish_hyrder_b-urlphish_hyrder_a,\"\\n\")"
   ]
  },
  {
   "cell_type": "code",
   "execution_count": 29,
   "metadata": {
    "colab": {
     "base_uri": "https://localhost:8080/",
     "height": 657
    },
    "executionInfo": {
     "elapsed": 1481,
     "status": "ok",
     "timestamp": 1699114467551,
     "user": {
      "displayName": "Jada Projects",
      "userId": "08763996031315654589"
     },
     "user_tz": -330
    },
    "id": "X0K1mXXQER-7",
    "outputId": "41cf6ecd-4027-494c-bebe-1f142d20158b"
   },
   "outputs": [
    {
     "name": "stdout",
     "output_type": "stream",
     "text": [
      "              precision    recall  f1-score   support\n",
      "\n",
      "           0       0.75      0.59      0.66     22845\n",
      "           1       0.89      0.94      0.91     78595\n",
      "\n",
      "    accuracy                           0.86    101440\n",
      "   macro avg       0.82      0.77      0.79    101440\n",
      "weighted avg       0.86      0.86      0.86    101440\n",
      "\n",
      "\n",
      " testing--------time  : 1.6798419952392578 \n",
      "\n"
     ]
    },
    {
     "data": {
      "image/png": "[encoded data removed]",
      "text/plain": [
       "<Figure size 640x480 with 2 Axes>"
      ]
     },
     "metadata": {},
     "output_type": "display_data"
    }
   ],
   "source": [
    "urlphish_hyrder_a = urlphish_hyrder_E4.time()\n",
    "\n",
    "P_hybrid = hyrder_E.predict(inputS_hybrid)\n",
    "print(urlphish_hyrder_E1(outputS_hybrid, P_hybrid))\n",
    "E2 = urlphish_hyrder_E2(outputS_hybrid, P_hybrid)\n",
    "E3 = urlphish_hyrder_E3(confusion_matrix = E2, display_labels = [0, 1])\n",
    "E3.plot()\n",
    "\n",
    "urlphish_hyrder_b = urlphish_hyrder_E4.time()\n",
    "print(\"\\n testing--------time  :\", urlphish_hyrder_b-urlphish_hyrder_a,\"\\n\")"
   ]
  }
 ],
 "metadata": {
  "colab": {
   "authorship_tag": "ABX9TyMmVqKZSGQjDLApM2AaA/j1",
   "mount_file_id": "1eMWJJBK6_9GwWTIKM2R2zp6469xDxpms",
   "provenance": []
  },
  "kernelspec": {
   "display_name": "Python 3 (ipykernel)",
   "language": "python",
   "name": "python3"
  },
  "language_info": {
   "codemirror_mode": {
    "name": "ipython",
    "version": 3
   },
   "file_extension": ".py",
   "mimetype": "text/x-python",
   "name": "python",
   "nbconvert_exporter": "python",
   "pygments_lexer": "ipython3",
   "version": "3.9.13"
  }
 },
 "nbformat": 4,
 "nbformat_minor": 1
}
