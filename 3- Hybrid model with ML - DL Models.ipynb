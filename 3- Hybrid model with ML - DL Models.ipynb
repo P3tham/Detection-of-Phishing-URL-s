{
 "cells": [
  {
   "cell_type": "code",
   "execution_count": 1,
   "metadata": {
    "colab": {
     "base_uri": "https://localhost:8080/",
     "height": 206
    },
    "executionInfo": {
     "elapsed": 1151,
     "status": "ok",
     "timestamp": 1699116103657,
     "user": {
      "displayName": "Jada Projects",
      "userId": "08763996031315654589"
     },
     "user_tz": -330
    },
    "id": "ii8JT_cMlQiM",
    "outputId": "c61638e2-c70b-452c-9450-34e34e4be769"
   },
   "outputs": [
    {
     "data": {
      "text/html": [
       "<div>\n",
       "<style scoped>\n",
       "    .dataframe tbody tr th:only-of-type {\n",
       "        vertical-align: middle;\n",
       "    }\n",
       "\n",
       "    .dataframe tbody tr th {\n",
       "        vertical-align: top;\n",
       "    }\n",
       "\n",
       "    .dataframe thead th {\n",
       "        text-align: right;\n",
       "    }\n",
       "</style>\n",
       "<table border=\"1\" class=\"dataframe\">\n",
       "  <thead>\n",
       "    <tr style=\"text-align: right;\">\n",
       "      <th></th>\n",
       "      <th>URL</th>\n",
       "      <th>Label</th>\n",
       "      <th>url_length</th>\n",
       "      <th>query_length</th>\n",
       "      <th>use_https</th>\n",
       "    </tr>\n",
       "  </thead>\n",
       "  <tbody>\n",
       "    <tr>\n",
       "      <th>0</th>\n",
       "      <td>nobell.it/70ffb52d079109dca5664cce6f317373782/...</td>\n",
       "      <td>0</td>\n",
       "      <td>225</td>\n",
       "      <td>47</td>\n",
       "      <td>False</td>\n",
       "    </tr>\n",
       "    <tr>\n",
       "      <th>1</th>\n",
       "      <td>www.dghjdgf.com/paypal.co.uk/cycgi-bin/webscrc...</td>\n",
       "      <td>0</td>\n",
       "      <td>81</td>\n",
       "      <td>0</td>\n",
       "      <td>False</td>\n",
       "    </tr>\n",
       "    <tr>\n",
       "      <th>2</th>\n",
       "      <td>serviciosbys.com/paypal.cgi.bin.get-into.herf....</td>\n",
       "      <td>0</td>\n",
       "      <td>177</td>\n",
       "      <td>0</td>\n",
       "      <td>False</td>\n",
       "    </tr>\n",
       "    <tr>\n",
       "      <th>3</th>\n",
       "      <td>mail.printakid.com/www.online.americanexpress....</td>\n",
       "      <td>0</td>\n",
       "      <td>60</td>\n",
       "      <td>0</td>\n",
       "      <td>False</td>\n",
       "    </tr>\n",
       "    <tr>\n",
       "      <th>4</th>\n",
       "      <td>thewhiskeydregs.com/wp-content/themes/widescre...</td>\n",
       "      <td>0</td>\n",
       "      <td>116</td>\n",
       "      <td>0</td>\n",
       "      <td>False</td>\n",
       "    </tr>\n",
       "  </tbody>\n",
       "</table>\n",
       "</div>"
      ],
      "text/plain": [
       "                                                 URL  Label  url_length  \\\n",
       "0  nobell.it/70ffb52d079109dca5664cce6f317373782/...      0         225   \n",
       "1  www.dghjdgf.com/paypal.co.uk/cycgi-bin/webscrc...      0          81   \n",
       "2  serviciosbys.com/paypal.cgi.bin.get-into.herf....      0         177   \n",
       "3  mail.printakid.com/www.online.americanexpress....      0          60   \n",
       "4  thewhiskeydregs.com/wp-content/themes/widescre...      0         116   \n",
       "\n",
       "   query_length  use_https  \n",
       "0            47      False  \n",
       "1             0      False  \n",
       "2             0      False  \n",
       "3             0      False  \n",
       "4             0      False  "
      ]
     },
     "execution_count": 1,
     "metadata": {},
     "output_type": "execute_result"
    }
   ],
   "source": [
    "import pandas as urlphish_hyrde\n",
    "\n",
    "urlphish_hyrd = urlphish_hyrde.read_csv('result_urlphish_hyrd.csv')\n",
    "urlphish_hyrd.head()"
   ]
  },
  {
   "cell_type": "code",
   "execution_count": 2,
   "metadata": {
    "colab": {
     "base_uri": "https://localhost:8080/"
    },
    "executionInfo": {
     "elapsed": 189,
     "status": "ok",
     "timestamp": 1699116103658,
     "user": {
      "displayName": "Jada Projects",
      "userId": "08763996031315654589"
     },
     "user_tz": -330
    },
    "id": "A8EruuZcnePT",
    "outputId": "4692e067-1dea-4fc6-a4c0-cea49a3c1652"
   },
   "outputs": [
    {
     "data": {
      "text/plain": [
       "1    392897\n",
       "0    114299\n",
       "Name: Label, dtype: int64"
      ]
     },
     "execution_count": 2,
     "metadata": {},
     "output_type": "execute_result"
    }
   ],
   "source": [
    "urlphish_hyrd['Label'].value_counts()"
   ]
  },
  {
   "cell_type": "markdown",
   "metadata": {
    "id": "m63NE3mlnvrd"
   },
   "source": [
    "* good kind of urls are more."
   ]
  },
  {
   "cell_type": "code",
   "execution_count": 3,
   "metadata": {
    "executionInfo": {
     "elapsed": 152,
     "status": "ok",
     "timestamp": 1699116103665,
     "user": {
      "displayName": "Jada Projects",
      "userId": "08763996031315654589"
     },
     "user_tz": -330
    },
    "id": "M6jfcwkUEkN9"
   },
   "outputs": [],
   "source": [
    "import warnings as waurlphish_hyrd\n",
    "waurlphish_hyrd.filterwarnings(\"ignore\")"
   ]
  },
  {
   "cell_type": "markdown",
   "metadata": {
    "id": "LsejQVSmnzM8"
   },
   "source": [
    "# Stop words rejection with lemmatization"
   ]
  },
  {
   "cell_type": "code",
   "execution_count": 4,
   "metadata": {
    "colab": {
     "base_uri": "https://localhost:8080/"
    },
    "executionInfo": {
     "elapsed": 1562,
     "status": "ok",
     "timestamp": 1699116105129,
     "user": {
      "displayName": "Jada Projects",
      "userId": "08763996031315654589"
     },
     "user_tz": -330
    },
    "id": "os3soaH0mbMO",
    "outputId": "cdd8291d-737e-422b-fe65-ef7d18593a92"
   },
   "outputs": [
    {
     "name": "stderr",
     "output_type": "stream",
     "text": [
      "[nltk_data] Downloading package stopwords to\n",
      "[nltk_data]     C:\\Users\\Preetham\\AppData\\Roaming\\nltk_data...\n",
      "[nltk_data]   Package stopwords is already up-to-date!\n",
      "[nltk_data] Downloading package wordnet to\n",
      "[nltk_data]     C:\\Users\\Preetham\\AppData\\Roaming\\nltk_data...\n",
      "[nltk_data]   Package wordnet is already up-to-date!\n"
     ]
    }
   ],
   "source": [
    "import nltk as urlphish_hyrdegh\n",
    "urlphish_hyrdegh.download('stopwords')\n",
    "urlphish_hyrdegh.download('wordnet')\n",
    "import regex as urlphish_hyrdegre"
   ]
  },
  {
   "cell_type": "code",
   "execution_count": 5,
   "metadata": {
    "colab": {
     "base_uri": "https://localhost:8080/"
    },
    "executionInfo": {
     "elapsed": 12,
     "status": "ok",
     "timestamp": 1699116105129,
     "user": {
      "displayName": "Jada Projects",
      "userId": "08763996031315654589"
     },
     "user_tz": -330
    },
    "id": "d6RK2Fe4pnqX",
    "outputId": "c860b36f-efaa-4d5f-8e3a-ec83974ec3df"
   },
   "outputs": [
    {
     "data": {
      "text/plain": [
       "['i',\n",
       " 'me',\n",
       " 'my',\n",
       " 'myself',\n",
       " 'we',\n",
       " 'our',\n",
       " 'ours',\n",
       " 'ourselves',\n",
       " 'you',\n",
       " \"you're\",\n",
       " \"you've\",\n",
       " \"you'll\",\n",
       " \"you'd\",\n",
       " 'your',\n",
       " 'yours',\n",
       " 'yourself',\n",
       " 'yourselves',\n",
       " 'he',\n",
       " 'him',\n",
       " 'his',\n",
       " 'himself',\n",
       " 'she',\n",
       " \"she's\",\n",
       " 'her',\n",
       " 'hers',\n",
       " 'herself',\n",
       " 'it',\n",
       " \"it's\",\n",
       " 'its',\n",
       " 'itself',\n",
       " 'they',\n",
       " 'them',\n",
       " 'their',\n",
       " 'theirs',\n",
       " 'themselves',\n",
       " 'what',\n",
       " 'which',\n",
       " 'who',\n",
       " 'whom',\n",
       " 'this',\n",
       " 'that',\n",
       " \"that'll\",\n",
       " 'these',\n",
       " 'those',\n",
       " 'am',\n",
       " 'is',\n",
       " 'are',\n",
       " 'was',\n",
       " 'were',\n",
       " 'be',\n",
       " 'been',\n",
       " 'being',\n",
       " 'have',\n",
       " 'has',\n",
       " 'had',\n",
       " 'having',\n",
       " 'do',\n",
       " 'does',\n",
       " 'did',\n",
       " 'doing',\n",
       " 'a',\n",
       " 'an',\n",
       " 'the',\n",
       " 'and',\n",
       " 'but',\n",
       " 'if',\n",
       " 'or',\n",
       " 'because',\n",
       " 'as',\n",
       " 'until',\n",
       " 'while',\n",
       " 'of',\n",
       " 'at',\n",
       " 'by',\n",
       " 'for',\n",
       " 'with',\n",
       " 'about',\n",
       " 'against',\n",
       " 'between',\n",
       " 'into',\n",
       " 'through',\n",
       " 'during',\n",
       " 'before',\n",
       " 'after',\n",
       " 'above',\n",
       " 'below',\n",
       " 'to',\n",
       " 'from',\n",
       " 'up',\n",
       " 'down',\n",
       " 'in',\n",
       " 'out',\n",
       " 'on',\n",
       " 'off',\n",
       " 'over',\n",
       " 'under',\n",
       " 'again',\n",
       " 'further',\n",
       " 'then',\n",
       " 'once',\n",
       " 'here',\n",
       " 'there',\n",
       " 'when',\n",
       " 'where',\n",
       " 'why',\n",
       " 'how',\n",
       " 'all',\n",
       " 'any',\n",
       " 'both',\n",
       " 'each',\n",
       " 'few',\n",
       " 'more',\n",
       " 'most',\n",
       " 'other',\n",
       " 'some',\n",
       " 'such',\n",
       " 'no',\n",
       " 'nor',\n",
       " 'not',\n",
       " 'only',\n",
       " 'own',\n",
       " 'same',\n",
       " 'so',\n",
       " 'than',\n",
       " 'too',\n",
       " 'very',\n",
       " 's',\n",
       " 't',\n",
       " 'can',\n",
       " 'will',\n",
       " 'just',\n",
       " 'don',\n",
       " \"don't\",\n",
       " 'should',\n",
       " \"should've\",\n",
       " 'now',\n",
       " 'd',\n",
       " 'll',\n",
       " 'm',\n",
       " 'o',\n",
       " 're',\n",
       " 've',\n",
       " 'y',\n",
       " 'ain',\n",
       " 'aren',\n",
       " \"aren't\",\n",
       " 'couldn',\n",
       " \"couldn't\",\n",
       " 'didn',\n",
       " \"didn't\",\n",
       " 'doesn',\n",
       " \"doesn't\",\n",
       " 'hadn',\n",
       " \"hadn't\",\n",
       " 'hasn',\n",
       " \"hasn't\",\n",
       " 'haven',\n",
       " \"haven't\",\n",
       " 'isn',\n",
       " \"isn't\",\n",
       " 'ma',\n",
       " 'mightn',\n",
       " \"mightn't\",\n",
       " 'mustn',\n",
       " \"mustn't\",\n",
       " 'needn',\n",
       " \"needn't\",\n",
       " 'shan',\n",
       " \"shan't\",\n",
       " 'shouldn',\n",
       " \"shouldn't\",\n",
       " 'wasn',\n",
       " \"wasn't\",\n",
       " 'weren',\n",
       " \"weren't\",\n",
       " 'won',\n",
       " \"won't\",\n",
       " 'wouldn',\n",
       " \"wouldn't\"]"
      ]
     },
     "execution_count": 5,
     "metadata": {},
     "output_type": "execute_result"
    }
   ],
   "source": [
    "from nltk.corpus import stopwords as urlphish_hyrderdw\n",
    "urlphish_hyrderdw_O = urlphish_hyrderdw.words('english')\n",
    "urlphish_hyrderdw_O"
   ]
  },
  {
   "cell_type": "code",
   "execution_count": 6,
   "metadata": {
    "colab": {
     "base_uri": "https://localhost:8080/"
    },
    "executionInfo": {
     "elapsed": 9,
     "status": "ok",
     "timestamp": 1699116105129,
     "user": {
      "displayName": "Jada Projects",
      "userId": "08763996031315654589"
     },
     "user_tz": -330
    },
    "id": "c-eeevHembSx",
    "outputId": "d8b13bef-8d47-4dbe-e911-80e7188ff080"
   },
   "outputs": [
    {
     "data": {
      "text/plain": [
       "<WordNetLemmatizer>"
      ]
     },
     "execution_count": 6,
     "metadata": {},
     "output_type": "execute_result"
    }
   ],
   "source": [
    "from nltk.stem.wordnet import WordNetLemmatizer as urlphish_hyrderdwwd\n",
    "urlphish_hyrderdwwd_O =urlphish_hyrderdwwd()\n",
    "urlphish_hyrderdwwd_O"
   ]
  },
  {
   "cell_type": "code",
   "execution_count": 7,
   "metadata": {
    "executionInfo": {
     "elapsed": 6,
     "status": "ok",
     "timestamp": 1699116105130,
     "user": {
      "displayName": "Jada Projects",
      "userId": "08763996031315654589"
     },
     "user_tz": -330
    },
    "id": "VL_F_zs4mbV6"
   },
   "outputs": [],
   "source": [
    "def hyrd(phiur):\n",
    "    phiur = phiur.lower()\n",
    "    phiur = urlphish_hyrdegre.sub(\"[^a-z]+\", \" \", phiur)\n",
    "    phiur = urlphish_hyrdegre.sub(r'www+', '', phiur)\n",
    "    phiur = \" \".join([kl for kl in phiur.split() if kl not in urlphish_hyrderdw_O])\n",
    "    phiur=' '.join([urlphish_hyrderdwwd_O.lemmatize(kl) for kl in phiur.split()])\n",
    "    return phiur"
   ]
  },
  {
   "cell_type": "code",
   "execution_count": 8,
   "metadata": {
    "colab": {
     "base_uri": "https://localhost:8080/",
     "height": 423
    },
    "executionInfo": {
     "elapsed": 54169,
     "status": "ok",
     "timestamp": 1699116159294,
     "user": {
      "displayName": "Jada Projects",
      "userId": "08763996031315654589"
     },
     "user_tz": -330
    },
    "id": "i1AMN5bKmbcf",
    "outputId": "05f47a49-e1e3-4d01-9a4a-9ff4a44bdeeb"
   },
   "outputs": [
    {
     "data": {
      "text/html": [
       "<div>\n",
       "<style scoped>\n",
       "    .dataframe tbody tr th:only-of-type {\n",
       "        vertical-align: middle;\n",
       "    }\n",
       "\n",
       "    .dataframe tbody tr th {\n",
       "        vertical-align: top;\n",
       "    }\n",
       "\n",
       "    .dataframe thead th {\n",
       "        text-align: right;\n",
       "    }\n",
       "</style>\n",
       "<table border=\"1\" class=\"dataframe\">\n",
       "  <thead>\n",
       "    <tr style=\"text-align: right;\">\n",
       "      <th></th>\n",
       "      <th>URL</th>\n",
       "      <th>Label</th>\n",
       "      <th>url_length</th>\n",
       "      <th>query_length</th>\n",
       "      <th>use_https</th>\n",
       "    </tr>\n",
       "  </thead>\n",
       "  <tbody>\n",
       "    <tr>\n",
       "      <th>0</th>\n",
       "      <td>nobell ffb dca cce f login skype com en cgi bi...</td>\n",
       "      <td>0</td>\n",
       "      <td>225</td>\n",
       "      <td>47</td>\n",
       "      <td>False</td>\n",
       "    </tr>\n",
       "    <tr>\n",
       "      <th>1</th>\n",
       "      <td>dghjdgf com paypal co uk cycgi bin webscrcmd h...</td>\n",
       "      <td>0</td>\n",
       "      <td>81</td>\n",
       "      <td>0</td>\n",
       "      <td>False</td>\n",
       "    </tr>\n",
       "    <tr>\n",
       "      <th>2</th>\n",
       "      <td>serviciosbys com paypal cgi bin get herf secur...</td>\n",
       "      <td>0</td>\n",
       "      <td>177</td>\n",
       "      <td>0</td>\n",
       "      <td>False</td>\n",
       "    </tr>\n",
       "    <tr>\n",
       "      <th>3</th>\n",
       "      <td>mail printakid com online americanexpress com ...</td>\n",
       "      <td>0</td>\n",
       "      <td>60</td>\n",
       "      <td>0</td>\n",
       "      <td>False</td>\n",
       "    </tr>\n",
       "    <tr>\n",
       "      <th>4</th>\n",
       "      <td>thewhiskeydregs com wp content theme widescree...</td>\n",
       "      <td>0</td>\n",
       "      <td>116</td>\n",
       "      <td>0</td>\n",
       "      <td>False</td>\n",
       "    </tr>\n",
       "    <tr>\n",
       "      <th>...</th>\n",
       "      <td>...</td>\n",
       "      <td>...</td>\n",
       "      <td>...</td>\n",
       "      <td>...</td>\n",
       "      <td>...</td>\n",
       "    </tr>\n",
       "    <tr>\n",
       "      <th>507191</th>\n",
       "      <td></td>\n",
       "      <td>0</td>\n",
       "      <td>15</td>\n",
       "      <td>0</td>\n",
       "      <td>False</td>\n",
       "    </tr>\n",
       "    <tr>\n",
       "      <th>507192</th>\n",
       "      <td>apple checker org</td>\n",
       "      <td>0</td>\n",
       "      <td>18</td>\n",
       "      <td>0</td>\n",
       "      <td>False</td>\n",
       "    </tr>\n",
       "    <tr>\n",
       "      <th>507193</th>\n",
       "      <td>apple iclods org</td>\n",
       "      <td>0</td>\n",
       "      <td>17</td>\n",
       "      <td>0</td>\n",
       "      <td>False</td>\n",
       "    </tr>\n",
       "    <tr>\n",
       "      <th>507194</th>\n",
       "      <td>apple uptoday org</td>\n",
       "      <td>0</td>\n",
       "      <td>18</td>\n",
       "      <td>0</td>\n",
       "      <td>False</td>\n",
       "    </tr>\n",
       "    <tr>\n",
       "      <th>507195</th>\n",
       "      <td>apple search info</td>\n",
       "      <td>0</td>\n",
       "      <td>17</td>\n",
       "      <td>0</td>\n",
       "      <td>False</td>\n",
       "    </tr>\n",
       "  </tbody>\n",
       "</table>\n",
       "<p>507196 rows × 5 columns</p>\n",
       "</div>"
      ],
      "text/plain": [
       "                                                      URL  Label  url_length  \\\n",
       "0       nobell ffb dca cce f login skype com en cgi bi...      0         225   \n",
       "1       dghjdgf com paypal co uk cycgi bin webscrcmd h...      0          81   \n",
       "2       serviciosbys com paypal cgi bin get herf secur...      0         177   \n",
       "3       mail printakid com online americanexpress com ...      0          60   \n",
       "4       thewhiskeydregs com wp content theme widescree...      0         116   \n",
       "...                                                   ...    ...         ...   \n",
       "507191                                                         0          15   \n",
       "507192                                  apple checker org      0          18   \n",
       "507193                                   apple iclods org      0          17   \n",
       "507194                                  apple uptoday org      0          18   \n",
       "507195                                  apple search info      0          17   \n",
       "\n",
       "        query_length  use_https  \n",
       "0                 47      False  \n",
       "1                  0      False  \n",
       "2                  0      False  \n",
       "3                  0      False  \n",
       "4                  0      False  \n",
       "...              ...        ...  \n",
       "507191             0      False  \n",
       "507192             0      False  \n",
       "507193             0      False  \n",
       "507194             0      False  \n",
       "507195             0      False  \n",
       "\n",
       "[507196 rows x 5 columns]"
      ]
     },
     "execution_count": 8,
     "metadata": {},
     "output_type": "execute_result"
    }
   ],
   "source": [
    "LIS=[]\n",
    "for nc in urlphish_hyrd['URL']:\n",
    "    LIS.append(hyrd(nc))\n",
    "urlphish_hyrd['URL']=LIS\n",
    "urlphish_hyrd"
   ]
  },
  {
   "cell_type": "code",
   "execution_count": 9,
   "metadata": {
    "executionInfo": {
     "elapsed": 24,
     "status": "ok",
     "timestamp": 1699116159295,
     "user": {
      "displayName": "Jada Projects",
      "userId": "08763996031315654589"
     },
     "user_tz": -330
    },
    "id": "LQC3i1WZmbf0"
   },
   "outputs": [],
   "source": [
    "input_hybrid= urlphish_hyrd['URL']\n",
    "output_hybrid= urlphish_hyrd['Label']"
   ]
  },
  {
   "cell_type": "markdown",
   "metadata": {
    "id": "6ZYHKfYfsKlb"
   },
   "source": [
    "# Convert text into numpy array format"
   ]
  },
  {
   "cell_type": "code",
   "execution_count": 10,
   "metadata": {
    "colab": {
     "base_uri": "https://localhost:8080/"
    },
    "executionInfo": {
     "elapsed": 21622,
     "status": "ok",
     "timestamp": 1699116180896,
     "user": {
      "displayName": "Jada Projects",
      "userId": "08763996031315654589"
     },
     "user_tz": -330
    },
    "id": "4_IpA8nIrQEQ",
    "outputId": "fce6432c-a227-46f8-b7c9-d63961090ba8"
   },
   "outputs": [
    {
     "data": {
      "text/plain": [
       "array([[0.59150101, 0.21268268, 0.12586521, ..., 0.04959343, 0.03488555,\n",
       "        0.        ],\n",
       "       [0.53426918, 0.19850762, 0.14684555, ..., 0.        , 0.16280234,\n",
       "        0.        ],\n",
       "       [0.54090429, 0.10485542, 0.07756656, ..., 0.        , 0.08599523,\n",
       "        0.07336024],\n",
       "       ...,\n",
       "       [0.3360022 , 0.18726234, 0.        , ..., 0.        , 0.        ,\n",
       "        0.        ],\n",
       "       [0.28892266, 0.32204749, 0.        , ..., 0.        , 0.26412127,\n",
       "        0.        ],\n",
       "       [0.32811898, 0.36573765, 0.        , ..., 0.        , 0.        ,\n",
       "        0.        ]])"
      ]
     },
     "execution_count": 10,
     "metadata": {},
     "output_type": "execute_result"
    }
   ],
   "source": [
    "from sklearn.feature_extraction.text import TfidfVectorizer as urlphish_hyrdervcidf\n",
    "urlphish_hyrdervcidf_O = urlphish_hyrdervcidf(analyzer='char')\n",
    "input_hybrid = urlphish_hyrdervcidf_O.fit_transform(input_hybrid.values.astype('U')).toarray()\n",
    "input_hybrid"
   ]
  },
  {
   "cell_type": "markdown",
   "metadata": {
    "id": "tROfE5O8sKFH"
   },
   "source": [
    "**Data splitting**"
   ]
  },
  {
   "cell_type": "code",
   "execution_count": 11,
   "metadata": {
    "colab": {
     "base_uri": "https://localhost:8080/"
    },
    "executionInfo": {
     "elapsed": 35,
     "status": "ok",
     "timestamp": 1699116180896,
     "user": {
      "displayName": "Jada Projects",
      "userId": "08763996031315654589"
     },
     "user_tz": -330
    },
    "id": "2Nh9-VRwrQIw",
    "outputId": "e99a3565-bab1-4d81-ee27-2c8ba10dfb5a"
   },
   "outputs": [
    {
     "name": "stdout",
     "output_type": "stream",
     "text": [
      "(304317, 27)\n",
      "(101439, 27)\n",
      "(101440, 27)\n"
     ]
    }
   ],
   "source": [
    "from sklearn.model_selection import train_test_split as urlphish_hyrderios\n",
    "\n",
    "hish_hyrd_R = 99\n",
    "hish_hyrd_Sa =0.4\n",
    "#...... train= 60% ...........\n",
    "inputN_hybrid, inputS_hybrid, outputN_hybrid, outputS_hybrid = urlphish_hyrderios(input_hybrid, output_hybrid, test_size=hish_hyrd_Sa, random_state= hish_hyrd_R)\n",
    "hish_hyrd_Sb =0.5\n",
    "#......  test= 20% ,validation= 20% ............\n",
    "inputV_hybrid, inputS_hybrid, outputV_hybrid, outputS_hybrid = urlphish_hyrderios(inputS_hybrid, outputS_hybrid, test_size=hish_hyrd_Sb, random_state= hish_hyrd_R)\n",
    "\n",
    "\n",
    "print(inputN_hybrid.shape)\n",
    "print(inputV_hybrid.shape)\n",
    "print(inputS_hybrid.shape)"
   ]
  },
  {
   "cell_type": "code",
   "execution_count": 12,
   "metadata": {
    "executionInfo": {
     "elapsed": 515,
     "status": "ok",
     "timestamp": 1699116746485,
     "user": {
      "displayName": "Jada Projects",
      "userId": "08763996031315654589"
     },
     "user_tz": -330
    },
    "id": "-dWOqeResCX4"
   },
   "outputs": [],
   "source": [
    "from sklearn.metrics import classification_report as urlphish_hyrder_E1\n",
    "from sklearn.metrics import confusion_matrix as urlphish_hyrder_E2\n",
    "from sklearn.metrics import ConfusionMatrixDisplay as urlphish_hyrder_E3\n",
    "import time as urlphish_hyrder_E4\n",
    "from sklearn.model_selection import GridSearchCV as urlphish_hyrder_E5\n",
    "from sklearn.ensemble import AdaBoostClassifier as urlphish_hyrder_E6\n",
    "from sklearn.ensemble import RandomForestClassifier as urlphish_hyrder_E7\n",
    "from sklearn.naive_bayes import GaussianNB as urlphish_hyrder_E8\n",
    "from sklearn.tree import DecisionTreeClassifier as urlphish_hyrder_E9\n",
    "from sklearn.neural_network import MLPClassifier as urlphish_hyrder_E10\n",
    "from sklearn.ensemble import VotingClassifier as urlphish_hyrder_E11"
   ]
  },
  {
   "cell_type": "markdown",
   "metadata": {
    "id": "eOX2jblIELGU"
   },
   "source": [
    "# Implementing Hybrid model with ML - DL Models"
   ]
  },
  {
   "cell_type": "markdown",
   "metadata": {
    "id": "FAks5lAxtqpz"
   },
   "source": [
    "# A. Adaboost with MLP"
   ]
  },
  {
   "cell_type": "code",
   "execution_count": 13,
   "metadata": {
    "colab": {
     "base_uri": "https://localhost:8080/"
    },
    "executionInfo": {
     "elapsed": 10710,
     "status": "ok",
     "timestamp": 1699116921284,
     "user": {
      "displayName": "Jada Projects",
      "userId": "08763996031315654589"
     },
     "user_tz": -330
    },
    "id": "TiOs6TW_sCbm",
    "outputId": "07dfb7ec-cb5f-493c-b285-ab615cd3a359"
   },
   "outputs": [
    {
     "name": "stdout",
     "output_type": "stream",
     "text": [
      "{'voting': 'soft'}\n",
      "score_value :  0.791\n"
     ]
    }
   ],
   "source": [
    "\n",
    "urlphish_vrt = {'voting': ['soft', 'hard']}\n",
    "\n",
    "urlphish_hyrder_m1 = urlphish_hyrder_E6(algorithm= 'SAMME.R', learning_rate= 1.0, n_estimators= 20)\n",
    "\n",
    "urlphish_hyrder_m2 = urlphish_hyrder_E10(activation= 'relu', learning_rate= 'constant', solver= 'adam')\n",
    "\n",
    "urlphish_vrtr = urlphish_hyrder_E11(estimators=[('adaboost', urlphish_hyrder_m1), ('mlp', urlphish_hyrder_m2)])\n",
    "\n",
    "urlphish_vrtr = urlphish_hyrder_E5(urlphish_vrtr, urlphish_vrt, cv=2)\n",
    "urlphish_vrtr.fit(inputN_hybrid[:1000], outputN_hybrid[:1000])\n",
    "\n",
    "print(urlphish_vrtr.best_params_)\n",
    "print(\"score_value : \", urlphish_vrtr.best_score_)"
   ]
  },
  {
   "cell_type": "code",
   "execution_count": 14,
   "metadata": {
    "colab": {
     "base_uri": "https://localhost:8080/",
     "height": 709
    },
    "executionInfo": {
     "elapsed": 307775,
     "status": "ok",
     "timestamp": 1699117338614,
     "user": {
      "displayName": "Jada Projects",
      "userId": "08763996031315654589"
     },
     "user_tz": -330
    },
    "id": "TgIBQ7B_sCez",
    "outputId": "37bff1d0-879f-4d88-ca56-89847f6daf32"
   },
   "outputs": [
    {
     "name": "stdout",
     "output_type": "stream",
     "text": [
      "\n",
      " Training------time : 1339.6423552036285 \n",
      "\n",
      "              precision    recall  f1-score   support\n",
      "\n",
      "           0       0.77      0.56      0.65     22821\n",
      "           1       0.88      0.95      0.92     78618\n",
      "\n",
      "    accuracy                           0.86    101439\n",
      "   macro avg       0.83      0.76      0.78    101439\n",
      "weighted avg       0.86      0.86      0.86    101439\n",
      "\n",
      "\n",
      " validation--------time  : 7.548792362213135 \n",
      "\n"
     ]
    },
    {
     "data": {
      "image/png": "[encoded data removed]",
      "text/plain": [
       "<Figure size 640x480 with 2 Axes>"
      ]
     },
     "metadata": {},
     "output_type": "display_data"
    }
   ],
   "source": [
    "urlphish_hyrder_a = urlphish_hyrder_E4.time()\n",
    "hyrder_A = urlphish_hyrder_E11(estimators=[('adaboost', urlphish_hyrder_m1), ('mlp', urlphish_hyrder_m2)], **urlphish_vrtr.best_params_)\n",
    "hyrder_A.fit(inputN_hybrid, outputN_hybrid)\n",
    "\n",
    "urlphish_hyrder_b = urlphish_hyrder_E4.time()\n",
    "print(\"\\n Training------time :\", urlphish_hyrder_b-urlphish_hyrder_a,\"\\n\")\n",
    "\n",
    "urlphish_hyrder_a = urlphish_hyrder_E4.time()\n",
    "\n",
    "P_hybrid = hyrder_A.predict(inputV_hybrid)\n",
    "print(urlphish_hyrder_E1(outputV_hybrid, P_hybrid))\n",
    "E2 = urlphish_hyrder_E2(outputV_hybrid, P_hybrid)\n",
    "E3 = urlphish_hyrder_E3(confusion_matrix = E2, display_labels = [0, 1])\n",
    "E3.plot()\n",
    "\n",
    "urlphish_hyrder_b = urlphish_hyrder_E4.time()\n",
    "print(\"\\n validation--------time  :\", urlphish_hyrder_b-urlphish_hyrder_a,\"\\n\")"
   ]
  },
  {
   "cell_type": "code",
   "execution_count": 15,
   "metadata": {
    "colab": {
     "base_uri": "https://localhost:8080/",
     "height": 657
    },
    "executionInfo": {
     "elapsed": 1251,
     "status": "ok",
     "timestamp": 1699117353187,
     "user": {
      "displayName": "Jada Projects",
      "userId": "08763996031315654589"
     },
     "user_tz": -330
    },
    "id": "an-JdOnWsCiF",
    "outputId": "4798afff-cc11-4e69-9498-8d37fd5a9050"
   },
   "outputs": [
    {
     "name": "stdout",
     "output_type": "stream",
     "text": [
      "              precision    recall  f1-score   support\n",
      "\n",
      "           0       0.78      0.56      0.65     22845\n",
      "           1       0.88      0.95      0.92     78595\n",
      "\n",
      "    accuracy                           0.86    101440\n",
      "   macro avg       0.83      0.76      0.78    101440\n",
      "weighted avg       0.86      0.86      0.86    101440\n",
      "\n",
      "\n",
      " testing--------time  : 0.9374210834503174 \n",
      "\n"
     ]
    },
    {
     "data": {
      "image/png": "[encoded data removed]",
      "text/plain": [
       "<Figure size 640x480 with 2 Axes>"
      ]
     },
     "metadata": {},
     "output_type": "display_data"
    }
   ],
   "source": [
    "urlphish_hyrder_a = urlphish_hyrder_E4.time()\n",
    "\n",
    "P_hybrid = hyrder_A.predict(inputS_hybrid)\n",
    "print(urlphish_hyrder_E1(outputS_hybrid, P_hybrid))\n",
    "E2 = urlphish_hyrder_E2(outputS_hybrid, P_hybrid)\n",
    "E3 = urlphish_hyrder_E3(confusion_matrix = E2, display_labels = [0, 1])\n",
    "E3.plot()\n",
    "\n",
    "urlphish_hyrder_b = urlphish_hyrder_E4.time()\n",
    "print(\"\\n testing--------time  :\", urlphish_hyrder_b-urlphish_hyrder_a,\"\\n\")"
   ]
  },
  {
   "cell_type": "markdown",
   "metadata": {
    "id": "MfDtwXo_wNxI"
   },
   "source": [
    "# B. Random Forest with MLP"
   ]
  },
  {
   "cell_type": "code",
   "execution_count": 16,
   "metadata": {
    "colab": {
     "base_uri": "https://localhost:8080/"
    },
    "executionInfo": {
     "elapsed": 13350,
     "status": "ok",
     "timestamp": 1699117546193,
     "user": {
      "displayName": "Jada Projects",
      "userId": "08763996031315654589"
     },
     "user_tz": -330
    },
    "id": "ekPfUC8gwHoq",
    "outputId": "7248f5d0-ad5f-480e-de2b-e28e4e14d274"
   },
   "outputs": [
    {
     "name": "stdout",
     "output_type": "stream",
     "text": [
      "{'voting': 'soft'}\n",
      "score_value :  0.801\n"
     ]
    }
   ],
   "source": [
    "\n",
    "urlphish_vrt = {'voting': ['soft', 'hard']}\n",
    "\n",
    "urlphish_hyrder_m1 = urlphish_hyrder_E7(criterion= 'entropy', n_estimators= 20, n_jobs= 10)\n",
    "\n",
    "urlphish_hyrder_m2 = urlphish_hyrder_E10(activation= 'relu', learning_rate= 'constant', solver= 'adam')\n",
    "\n",
    "urlphish_vrtr = urlphish_hyrder_E11(estimators=[('randomforest', urlphish_hyrder_m1), ('mlp', urlphish_hyrder_m2)])\n",
    "\n",
    "urlphish_vrtr = urlphish_hyrder_E5(urlphish_vrtr, urlphish_vrt, cv=2)\n",
    "urlphish_vrtr.fit(inputN_hybrid[:1000], outputN_hybrid[:1000])\n",
    "\n",
    "print(urlphish_vrtr.best_params_)\n",
    "print(\"score_value : \", urlphish_vrtr.best_score_)"
   ]
  },
  {
   "cell_type": "code",
   "execution_count": 17,
   "metadata": {
    "colab": {
     "base_uri": "https://localhost:8080/",
     "height": 709
    },
    "executionInfo": {
     "elapsed": 146927,
     "status": "ok",
     "timestamp": 1699117698351,
     "user": {
      "displayName": "Jada Projects",
      "userId": "08763996031315654589"
     },
     "user_tz": -330
    },
    "id": "qYR6Q_sawcss",
    "outputId": "48d8e026-422c-4bbb-c822-cafa86636588"
   },
   "outputs": [
    {
     "name": "stdout",
     "output_type": "stream",
     "text": [
      "\n",
      " Training------time : 768.395833492279 \n",
      "\n",
      "              precision    recall  f1-score   support\n",
      "\n",
      "           0       0.87      0.55      0.67     22821\n",
      "           1       0.88      0.98      0.93     78618\n",
      "\n",
      "    accuracy                           0.88    101439\n",
      "   macro avg       0.88      0.76      0.80    101439\n",
      "weighted avg       0.88      0.88      0.87    101439\n",
      "\n",
      "\n",
      " validation--------time  : 0.6113648414611816 \n",
      "\n"
     ]
    },
    {
     "data": {
      "image/png": "[encoded data removed]",
      "text/plain": [
       "<Figure size 640x480 with 2 Axes>"
      ]
     },
     "metadata": {},
     "output_type": "display_data"
    }
   ],
   "source": [
    "urlphish_hyrder_a = urlphish_hyrder_E4.time()\n",
    "hyrder_A = urlphish_hyrder_E11(estimators=[('randomforest', urlphish_hyrder_m1), ('mlp', urlphish_hyrder_m2)], **urlphish_vrtr.best_params_)\n",
    "hyrder_A.fit(inputN_hybrid, outputN_hybrid)\n",
    "\n",
    "urlphish_hyrder_b = urlphish_hyrder_E4.time()\n",
    "print(\"\\n Training------time :\", urlphish_hyrder_b-urlphish_hyrder_a,\"\\n\")\n",
    "\n",
    "urlphish_hyrder_a = urlphish_hyrder_E4.time()\n",
    "\n",
    "P_hybrid = hyrder_A.predict(inputV_hybrid)\n",
    "print(urlphish_hyrder_E1(outputV_hybrid, P_hybrid))\n",
    "E2 = urlphish_hyrder_E2(outputV_hybrid, P_hybrid)\n",
    "E3 = urlphish_hyrder_E3(confusion_matrix = E2, display_labels = [0, 1])\n",
    "E3.plot()\n",
    "\n",
    "urlphish_hyrder_b = urlphish_hyrder_E4.time()\n",
    "print(\"\\n validation--------time  :\", urlphish_hyrder_b-urlphish_hyrder_a,\"\\n\")"
   ]
  },
  {
   "cell_type": "code",
   "execution_count": 18,
   "metadata": {
    "colab": {
     "base_uri": "https://localhost:8080/",
     "height": 657
    },
    "executionInfo": {
     "elapsed": 1964,
     "status": "ok",
     "timestamp": 1699117703911,
     "user": {
      "displayName": "Jada Projects",
      "userId": "08763996031315654589"
     },
     "user_tz": -330
    },
    "id": "2XWMTTm5wHsY",
    "outputId": "d07c819e-c915-47e9-cba8-67ff95b6a1d7"
   },
   "outputs": [
    {
     "name": "stdout",
     "output_type": "stream",
     "text": [
      "              precision    recall  f1-score   support\n",
      "\n",
      "           0       0.87      0.55      0.68     22845\n",
      "           1       0.88      0.98      0.93     78595\n",
      "\n",
      "    accuracy                           0.88    101440\n",
      "   macro avg       0.88      0.76      0.80    101440\n",
      "weighted avg       0.88      0.88      0.87    101440\n",
      "\n",
      "\n",
      " testing--------time  : 0.5752835273742676 \n",
      "\n"
     ]
    },
    {
     "data": {
      "image/png": "[encoded data removed]",
      "text/plain": [
       "<Figure size 640x480 with 2 Axes>"
      ]
     },
     "metadata": {},
     "output_type": "display_data"
    }
   ],
   "source": [
    "urlphish_hyrder_a = urlphish_hyrder_E4.time()\n",
    "\n",
    "P_hybrid = hyrder_A.predict(inputS_hybrid)\n",
    "print(urlphish_hyrder_E1(outputS_hybrid, P_hybrid))\n",
    "E2 = urlphish_hyrder_E2(outputS_hybrid, P_hybrid)\n",
    "E3 = urlphish_hyrder_E3(confusion_matrix = E2, display_labels = [0, 1])\n",
    "E3.plot()\n",
    "\n",
    "urlphish_hyrder_b = urlphish_hyrder_E4.time()\n",
    "print(\"\\n testing--------time  :\", urlphish_hyrder_b-urlphish_hyrder_a,\"\\n\")"
   ]
  },
  {
   "cell_type": "markdown",
   "metadata": {
    "id": "Rt64_R70wO1V"
   },
   "source": [
    "# C. Gaussian naive bayes with MLP"
   ]
  },
  {
   "cell_type": "code",
   "execution_count": 19,
   "metadata": {
    "colab": {
     "base_uri": "https://localhost:8080/"
    },
    "executionInfo": {
     "elapsed": 6407,
     "status": "ok",
     "timestamp": 1699117850548,
     "user": {
      "displayName": "Jada Projects",
      "userId": "08763996031315654589"
     },
     "user_tz": -330
    },
    "id": "7dfs-ESKwHuq",
    "outputId": "7e27949d-5339-4948-ce9b-65080ddff0ee"
   },
   "outputs": [
    {
     "name": "stdout",
     "output_type": "stream",
     "text": [
      "{'voting': 'soft'}\n",
      "score_value :  0.796\n"
     ]
    }
   ],
   "source": [
    "\n",
    "urlphish_vrt = {'voting': ['soft', 'hard']}\n",
    "\n",
    "urlphish_hyrder_m1 = urlphish_hyrder_E8(var_smoothing= 1.0)\n",
    "\n",
    "urlphish_hyrder_m2 = urlphish_hyrder_E10(activation= 'relu', learning_rate= 'constant', solver= 'adam')\n",
    "\n",
    "urlphish_vrtr = urlphish_hyrder_E11(estimators=[('gnb', urlphish_hyrder_m1), ('mlp', urlphish_hyrder_m2)])\n",
    "\n",
    "urlphish_vrtr = urlphish_hyrder_E5(urlphish_vrtr, urlphish_vrt, cv=2)\n",
    "urlphish_vrtr.fit(inputN_hybrid[:1000], outputN_hybrid[:1000])\n",
    "\n",
    "print(urlphish_vrtr.best_params_)\n",
    "print(\"score_value : \", urlphish_vrtr.best_score_)"
   ]
  },
  {
   "cell_type": "code",
   "execution_count": 20,
   "metadata": {
    "colab": {
     "base_uri": "https://localhost:8080/",
     "height": 709
    },
    "executionInfo": {
     "elapsed": 170594,
     "status": "ok",
     "timestamp": 1699118030920,
     "user": {
      "displayName": "Jada Projects",
      "userId": "08763996031315654589"
     },
     "user_tz": -330
    },
    "id": "8S1NC-QkwdnD",
    "outputId": "ee8c5100-2a15-4d38-8a24-de571650786d"
   },
   "outputs": [
    {
     "name": "stdout",
     "output_type": "stream",
     "text": [
      "\n",
      " Training------time : 704.8584887981415 \n",
      "\n",
      "              precision    recall  f1-score   support\n",
      "\n",
      "           0       0.85      0.44      0.58     22821\n",
      "           1       0.86      0.98      0.91     78618\n",
      "\n",
      "    accuracy                           0.86    101439\n",
      "   macro avg       0.86      0.71      0.75    101439\n",
      "weighted avg       0.86      0.86      0.84    101439\n",
      "\n",
      "\n",
      " validation--------time  : 0.49660563468933105 \n",
      "\n"
     ]
    },
    {
     "data": {
      "image/png": "[encoded data removed]",
      "text/plain": [
       "<Figure size 640x480 with 2 Axes>"
      ]
     },
     "metadata": {},
     "output_type": "display_data"
    }
   ],
   "source": [
    "urlphish_hyrder_a = urlphish_hyrder_E4.time()\n",
    "hyrder_A = urlphish_hyrder_E11(estimators=[('gnb', urlphish_hyrder_m1), ('mlp', urlphish_hyrder_m2)], **urlphish_vrtr.best_params_)\n",
    "hyrder_A.fit(inputN_hybrid, outputN_hybrid)\n",
    "\n",
    "urlphish_hyrder_b = urlphish_hyrder_E4.time()\n",
    "print(\"\\n Training------time :\", urlphish_hyrder_b-urlphish_hyrder_a,\"\\n\")\n",
    "\n",
    "urlphish_hyrder_a = urlphish_hyrder_E4.time()\n",
    "\n",
    "P_hybrid = hyrder_A.predict(inputV_hybrid)\n",
    "print(urlphish_hyrder_E1(outputV_hybrid, P_hybrid))\n",
    "E2 = urlphish_hyrder_E2(outputV_hybrid, P_hybrid)\n",
    "E3 = urlphish_hyrder_E3(confusion_matrix = E2, display_labels = [0, 1])\n",
    "E3.plot()\n",
    "\n",
    "urlphish_hyrder_b = urlphish_hyrder_E4.time()\n",
    "print(\"\\n validation--------time  :\", urlphish_hyrder_b-urlphish_hyrder_a,\"\\n\")"
   ]
  },
  {
   "cell_type": "code",
   "execution_count": 21,
   "metadata": {
    "colab": {
     "base_uri": "https://localhost:8080/",
     "height": 657
    },
    "executionInfo": {
     "elapsed": 1516,
     "status": "ok",
     "timestamp": 1699118038592,
     "user": {
      "displayName": "Jada Projects",
      "userId": "08763996031315654589"
     },
     "user_tz": -330
    },
    "id": "oj5boCL8wHyB",
    "outputId": "2fb7f0f4-5014-4ba5-f06e-5a4dd22992f2"
   },
   "outputs": [
    {
     "name": "stdout",
     "output_type": "stream",
     "text": [
      "              precision    recall  f1-score   support\n",
      "\n",
      "           0       0.86      0.44      0.58     22845\n",
      "           1       0.86      0.98      0.91     78595\n",
      "\n",
      "    accuracy                           0.86    101440\n",
      "   macro avg       0.86      0.71      0.75    101440\n",
      "weighted avg       0.86      0.86      0.84    101440\n",
      "\n",
      "\n",
      " testing--------time  : 0.4850277900695801 \n",
      "\n"
     ]
    },
    {
     "data": {
      "image/png": "[encoded data removed]",
      "text/plain": [
       "<Figure size 640x480 with 2 Axes>"
      ]
     },
     "metadata": {},
     "output_type": "display_data"
    }
   ],
   "source": [
    "urlphish_hyrder_a = urlphish_hyrder_E4.time()\n",
    "\n",
    "P_hybrid = hyrder_A.predict(inputS_hybrid)\n",
    "print(urlphish_hyrder_E1(outputS_hybrid, P_hybrid))\n",
    "E2 = urlphish_hyrder_E2(outputS_hybrid, P_hybrid)\n",
    "E3 = urlphish_hyrder_E3(confusion_matrix = E2, display_labels = [0, 1])\n",
    "E3.plot()\n",
    "\n",
    "urlphish_hyrder_b = urlphish_hyrder_E4.time()\n",
    "print(\"\\n testing--------time  :\", urlphish_hyrder_b-urlphish_hyrder_a,\"\\n\")"
   ]
  },
  {
   "cell_type": "markdown",
   "metadata": {
    "id": "oBWN5EtmwPra"
   },
   "source": [
    "# D. Decision tree with MLP"
   ]
  },
  {
   "cell_type": "code",
   "execution_count": 22,
   "metadata": {
    "colab": {
     "base_uri": "https://localhost:8080/"
    },
    "executionInfo": {
     "elapsed": 3928,
     "status": "ok",
     "timestamp": 1699118209364,
     "user": {
      "displayName": "Jada Projects",
      "userId": "08763996031315654589"
     },
     "user_tz": -330
    },
    "id": "SvPw39ppwH1I",
    "outputId": "17ac10f5-1be0-4844-f360-38a0f5915c8f"
   },
   "outputs": [
    {
     "name": "stdout",
     "output_type": "stream",
     "text": [
      "{'voting': 'hard'}\n",
      "score_value :  0.724\n"
     ]
    }
   ],
   "source": [
    "\n",
    "urlphish_vrt = {'voting': ['soft', 'hard']}\n",
    "\n",
    "urlphish_hyrder_m1 = urlphish_hyrder_E9(criterion= 'entropy', max_features= 'auto', splitter= 'best')\n",
    "\n",
    "urlphish_hyrder_m2 = urlphish_hyrder_E10(activation= 'relu', learning_rate= 'constant', solver= 'adam')\n",
    "\n",
    "urlphish_vrtr = urlphish_hyrder_E11(estimators=[('dt', urlphish_hyrder_m1), ('mlp', urlphish_hyrder_m2)])\n",
    "\n",
    "urlphish_vrtr = urlphish_hyrder_E5(urlphish_vrtr, urlphish_vrt, cv=2)\n",
    "urlphish_vrtr.fit(inputN_hybrid[:1000], outputN_hybrid[:1000])\n",
    "\n",
    "print(urlphish_vrtr.best_params_)\n",
    "print(\"score_value : \", urlphish_vrtr.best_score_)"
   ]
  },
  {
   "cell_type": "code",
   "execution_count": 23,
   "metadata": {
    "colab": {
     "base_uri": "https://localhost:8080/",
     "height": 709
    },
    "executionInfo": {
     "elapsed": 80295,
     "status": "ok",
     "timestamp": 1699118296054,
     "user": {
      "displayName": "Jada Projects",
      "userId": "08763996031315654589"
     },
     "user_tz": -330
    },
    "id": "n0HWfxNqweQf",
    "outputId": "243d26d3-609d-4837-a905-20a4859c5043"
   },
   "outputs": [
    {
     "name": "stdout",
     "output_type": "stream",
     "text": [
      "\n",
      " Training------time : 629.6358957290649 \n",
      "\n",
      "              precision    recall  f1-score   support\n",
      "\n",
      "           0       0.58      0.72      0.64     22821\n",
      "           1       0.91      0.85      0.88     78618\n",
      "\n",
      "    accuracy                           0.82    101439\n",
      "   macro avg       0.75      0.78      0.76    101439\n",
      "weighted avg       0.84      0.82      0.83    101439\n",
      "\n",
      "\n",
      " validation--------time  : 1.3310139179229736 \n",
      "\n"
     ]
    },
    {
     "data": {
      "image/png": "[encoded data removed]",
      "text/plain": [
       "<Figure size 640x480 with 2 Axes>"
      ]
     },
     "metadata": {},
     "output_type": "display_data"
    }
   ],
   "source": [
    "urlphish_hyrder_a = urlphish_hyrder_E4.time()\n",
    "hyrder_A = urlphish_hyrder_E11(estimators=[('dt', urlphish_hyrder_m1), ('mlp', urlphish_hyrder_m2)], **urlphish_vrtr.best_params_)\n",
    "hyrder_A.fit(inputN_hybrid, outputN_hybrid)\n",
    "\n",
    "urlphish_hyrder_b = urlphish_hyrder_E4.time()\n",
    "print(\"\\n Training------time :\", urlphish_hyrder_b-urlphish_hyrder_a,\"\\n\")\n",
    "\n",
    "urlphish_hyrder_a = urlphish_hyrder_E4.time()\n",
    "\n",
    "P_hybrid = hyrder_A.predict(inputV_hybrid)\n",
    "print(urlphish_hyrder_E1(outputV_hybrid, P_hybrid))\n",
    "E2 = urlphish_hyrder_E2(outputV_hybrid, P_hybrid)\n",
    "E3 = urlphish_hyrder_E3(confusion_matrix = E2, display_labels = [0, 1])\n",
    "E3.plot()\n",
    "\n",
    "urlphish_hyrder_b = urlphish_hyrder_E4.time()\n",
    "print(\"\\n validation--------time  :\", urlphish_hyrder_b-urlphish_hyrder_a,\"\\n\")"
   ]
  },
  {
   "cell_type": "code",
   "execution_count": 24,
   "metadata": {
    "colab": {
     "base_uri": "https://localhost:8080/",
     "height": 657
    },
    "executionInfo": {
     "elapsed": 1731,
     "status": "ok",
     "timestamp": 1699118303868,
     "user": {
      "displayName": "Jada Projects",
      "userId": "08763996031315654589"
     },
     "user_tz": -330
    },
    "id": "G8rNYDUqweUU",
    "outputId": "a44993ef-8eee-4e4e-cda5-1ef7e49c2772"
   },
   "outputs": [
    {
     "name": "stdout",
     "output_type": "stream",
     "text": [
      "              precision    recall  f1-score   support\n",
      "\n",
      "           0       0.58      0.72      0.64     22845\n",
      "           1       0.91      0.85      0.88     78595\n",
      "\n",
      "    accuracy                           0.82    101440\n",
      "   macro avg       0.75      0.78      0.76    101440\n",
      "weighted avg       0.84      0.82      0.83    101440\n",
      "\n",
      "\n",
      " testing--------time  : 1.0160531997680664 \n",
      "\n"
     ]
    },
    {
     "data": {
      "image/png": "[encoded data removed]",
      "text/plain": [
       "<Figure size 640x480 with 2 Axes>"
      ]
     },
     "metadata": {},
     "output_type": "display_data"
    }
   ],
   "source": [
    "urlphish_hyrder_a = urlphish_hyrder_E4.time()\n",
    "\n",
    "P_hybrid = hyrder_A.predict(inputS_hybrid)\n",
    "print(urlphish_hyrder_E1(outputS_hybrid, P_hybrid))\n",
    "E2 = urlphish_hyrder_E2(outputS_hybrid, P_hybrid)\n",
    "E3 = urlphish_hyrder_E3(confusion_matrix = E2, display_labels = [0, 1])\n",
    "E3.plot()\n",
    "\n",
    "urlphish_hyrder_b = urlphish_hyrder_E4.time()\n",
    "print(\"\\n testing--------time  :\", urlphish_hyrder_b-urlphish_hyrder_a,\"\\n\")"
   ]
  },
  {
   "cell_type": "markdown",
   "metadata": {
    "id": "nkJO8N4-WEbP"
   },
   "source": [
    "# E. Adaboost, Random forest with MLP"
   ]
  },
  {
   "cell_type": "code",
   "execution_count": 25,
   "metadata": {
    "colab": {
     "base_uri": "https://localhost:8080/"
    },
    "executionInfo": {
     "elapsed": 7706,
     "status": "ok",
     "timestamp": 1699118656965,
     "user": {
      "displayName": "Jada Projects",
      "userId": "08763996031315654589"
     },
     "user_tz": -330
    },
    "id": "tU8ZEXg3WJ_Y",
    "outputId": "750fd071-cc20-4ae2-8de7-fe465bb6e573"
   },
   "outputs": [
    {
     "name": "stdout",
     "output_type": "stream",
     "text": [
      "{'voting': 'soft'}\n",
      "score_value :  0.801\n"
     ]
    }
   ],
   "source": [
    "\n",
    "urlphish_vrt = {'voting': ['soft', 'hard']}\n",
    "\n",
    "urlphish_hyrder_m1 = urlphish_hyrder_E6(algorithm= 'SAMME.R', learning_rate= 1.0, n_estimators= 20)\n",
    "urlphish_hyrder_m2 = urlphish_hyrder_E7(criterion= 'entropy', n_estimators= 20, n_jobs= 10)\n",
    "urlphish_hyrder_m3 = urlphish_hyrder_E10(activation= 'relu', learning_rate= 'constant', solver= 'adam')\n",
    "\n",
    "urlphish_vrtr = urlphish_hyrder_E11(estimators=[('adaboost', urlphish_hyrder_m1), ('randomforest', urlphish_hyrder_m2), ('mlp', urlphish_hyrder_m3)])\n",
    "\n",
    "urlphish_vrtr = urlphish_hyrder_E5(urlphish_vrtr, urlphish_vrt, cv=2)\n",
    "urlphish_vrtr.fit(inputN_hybrid[:1000], outputN_hybrid[:1000])\n",
    "\n",
    "print(urlphish_vrtr.best_params_)\n",
    "print(\"score_value : \", urlphish_vrtr.best_score_)"
   ]
  },
  {
   "cell_type": "code",
   "execution_count": 26,
   "metadata": {
    "colab": {
     "base_uri": "https://localhost:8080/",
     "height": 709
    },
    "executionInfo": {
     "elapsed": 97671,
     "status": "ok",
     "timestamp": 1699118796656,
     "user": {
      "displayName": "Jada Projects",
      "userId": "08763996031315654589"
     },
     "user_tz": -330
    },
    "id": "rShvYAVDWKDN",
    "outputId": "7e8a47b4-9e1f-4c5a-de24-46768ac1e801"
   },
   "outputs": [
    {
     "name": "stdout",
     "output_type": "stream",
     "text": [
      "\n",
      " Training------time : 633.1336007118225 \n",
      "\n",
      "              precision    recall  f1-score   support\n",
      "\n",
      "           0       0.88      0.53      0.67     22821\n",
      "           1       0.88      0.98      0.93     78618\n",
      "\n",
      "    accuracy                           0.88    101439\n",
      "   macro avg       0.88      0.76      0.80    101439\n",
      "weighted avg       0.88      0.88      0.87    101439\n",
      "\n",
      "\n",
      " validation--------time  : 0.975775957107544 \n",
      "\n"
     ]
    },
    {
     "data": {
      "image/png": "[encoded data removed]",
      "text/plain": [
       "<Figure size 640x480 with 2 Axes>"
      ]
     },
     "metadata": {},
     "output_type": "display_data"
    }
   ],
   "source": [
    "urlphish_hyrder_a = urlphish_hyrder_E4.time()\n",
    "hyrder_A = urlphish_hyrder_E11(estimators=[('adaboost', urlphish_hyrder_m1), ('randomforest', urlphish_hyrder_m2), ('mlp', urlphish_hyrder_m3)], **urlphish_vrtr.best_params_)\n",
    "hyrder_A.fit(inputN_hybrid, outputN_hybrid)\n",
    "\n",
    "urlphish_hyrder_b = urlphish_hyrder_E4.time()\n",
    "print(\"\\n Training------time :\", urlphish_hyrder_b-urlphish_hyrder_a,\"\\n\")\n",
    "\n",
    "urlphish_hyrder_a = urlphish_hyrder_E4.time()\n",
    "\n",
    "P_hybrid = hyrder_A.predict(inputV_hybrid)\n",
    "print(urlphish_hyrder_E1(outputV_hybrid, P_hybrid))\n",
    "E2 = urlphish_hyrder_E2(outputV_hybrid, P_hybrid)\n",
    "E3 = urlphish_hyrder_E3(confusion_matrix = E2, display_labels = [0, 1])\n",
    "E3.plot()\n",
    "\n",
    "urlphish_hyrder_b = urlphish_hyrder_E4.time()\n",
    "print(\"\\n validation--------time  :\", urlphish_hyrder_b-urlphish_hyrder_a,\"\\n\")"
   ]
  },
  {
   "cell_type": "code",
   "execution_count": 27,
   "metadata": {
    "colab": {
     "base_uri": "https://localhost:8080/",
     "height": 657
    },
    "executionInfo": {
     "elapsed": 2178,
     "status": "ok",
     "timestamp": 1699118802516,
     "user": {
      "displayName": "Jada Projects",
      "userId": "08763996031315654589"
     },
     "user_tz": -330
    },
    "id": "dqV7c7VJWKKd",
    "outputId": "12bf9e22-9d38-4697-a6cc-9f69e074e0a1"
   },
   "outputs": [
    {
     "name": "stdout",
     "output_type": "stream",
     "text": [
      "              precision    recall  f1-score   support\n",
      "\n",
      "           0       0.88      0.54      0.67     22845\n",
      "           1       0.88      0.98      0.93     78595\n",
      "\n",
      "    accuracy                           0.88    101440\n",
      "   macro avg       0.88      0.76      0.80    101440\n",
      "weighted avg       0.88      0.88      0.87    101440\n",
      "\n",
      "\n",
      " testing--------time  : 24.2635715007782 \n",
      "\n"
     ]
    },
    {
     "data": {
      "image/png": "[encoded data removed]",
      "text/plain": [
       "<Figure size 640x480 with 2 Axes>"
      ]
     },
     "metadata": {},
     "output_type": "display_data"
    }
   ],
   "source": [
    "urlphish_hyrder_a = urlphish_hyrder_E4.time()\n",
    "\n",
    "P_hybrid = hyrder_A.predict(inputS_hybrid)\n",
    "print(urlphish_hyrder_E1(outputS_hybrid, P_hybrid))\n",
    "E2 = urlphish_hyrder_E2(outputS_hybrid, P_hybrid)\n",
    "E3 = urlphish_hyrder_E3(confusion_matrix = E2, display_labels = [0, 1])\n",
    "E3.plot()\n",
    "\n",
    "urlphish_hyrder_b = urlphish_hyrder_E4.time()\n",
    "print(\"\\n testing--------time  :\", urlphish_hyrder_b-urlphish_hyrder_a,\"\\n\")"
   ]
  },
  {
   "cell_type": "markdown",
   "metadata": {
    "id": "LOdgVcP0WLgM"
   },
   "source": [
    "# F. Gaussian NB, Decision Tree with MLP"
   ]
  },
  {
   "cell_type": "code",
   "execution_count": 28,
   "metadata": {
    "colab": {
     "base_uri": "https://localhost:8080/"
    },
    "executionInfo": {
     "elapsed": 4266,
     "status": "ok",
     "timestamp": 1699118814193,
     "user": {
      "displayName": "Jada Projects",
      "userId": "08763996031315654589"
     },
     "user_tz": -330
    },
    "id": "Jerj57ZMWRWV",
    "outputId": "7dab446b-db96-46b0-8e6d-43870624d0af"
   },
   "outputs": [
    {
     "name": "stdout",
     "output_type": "stream",
     "text": [
      "{'voting': 'hard'}\n",
      "score_value :  0.804\n"
     ]
    }
   ],
   "source": [
    "\n",
    "urlphish_vrt = {'voting': ['soft', 'hard']}\n",
    "\n",
    "urlphish_hyrder_m1 = urlphish_hyrder_E8(var_smoothing= 1.0)\n",
    "urlphish_hyrder_m2 = urlphish_hyrder_E9(criterion= 'entropy', max_features= 'auto', splitter= 'best')\n",
    "urlphish_hyrder_m3 = urlphish_hyrder_E10(activation= 'relu', learning_rate= 'constant', solver= 'adam')\n",
    "\n",
    "urlphish_vrtr = urlphish_hyrder_E11(estimators=[('gnb', urlphish_hyrder_m1), ('dt', urlphish_hyrder_m2), ('mlp', urlphish_hyrder_m3)])\n",
    "\n",
    "urlphish_vrtr = urlphish_hyrder_E5(urlphish_vrtr, urlphish_vrt, cv=2)\n",
    "urlphish_vrtr.fit(inputN_hybrid[:1000], outputN_hybrid[:1000])\n",
    "\n",
    "print(urlphish_vrtr.best_params_)\n",
    "print(\"score_value : \", urlphish_vrtr.best_score_)"
   ]
  },
  {
   "cell_type": "code",
   "execution_count": 29,
   "metadata": {
    "colab": {
     "base_uri": "https://localhost:8080/",
     "height": 709
    },
    "executionInfo": {
     "elapsed": 12761,
     "status": "ok",
     "timestamp": 1699118838790,
     "user": {
      "displayName": "Jada Projects",
      "userId": "08763996031315654589"
     },
     "user_tz": -330
    },
    "id": "Rt-ujGwPWRbL",
    "outputId": "f6d4ddd4-3637-4aee-9297-d103651e4c55"
   },
   "outputs": [
    {
     "name": "stdout",
     "output_type": "stream",
     "text": [
      "\n",
      " Training------time : 8.41730260848999 \n",
      "\n",
      "              precision    recall  f1-score   support\n",
      "\n",
      "           0       0.80      0.49      0.61     22821\n",
      "           1       0.87      0.96      0.91     78618\n",
      "\n",
      "    accuracy                           0.86    101439\n",
      "   macro avg       0.83      0.73      0.76    101439\n",
      "weighted avg       0.85      0.86      0.84    101439\n",
      "\n",
      "\n",
      " validation--------time  : 0.9456534385681152 \n",
      "\n"
     ]
    },
    {
     "data": {
      "image/png": "[encoded data removed]",
      "text/plain": [
       "<Figure size 640x480 with 2 Axes>"
      ]
     },
     "metadata": {},
     "output_type": "display_data"
    }
   ],
   "source": [
    "urlphish_hyrder_a = urlphish_hyrder_E4.time()\n",
    "hyrder_A = urlphish_hyrder_E11(estimators=[('gnb', urlphish_hyrder_m1), ('dt', urlphish_hyrder_m2), ('mlp', urlphish_hyrder_m2)], **urlphish_vrtr.best_params_)\n",
    "hyrder_A.fit(inputN_hybrid, outputN_hybrid)\n",
    "\n",
    "urlphish_hyrder_b = urlphish_hyrder_E4.time()\n",
    "print(\"\\n Training------time :\", urlphish_hyrder_b-urlphish_hyrder_a,\"\\n\")\n",
    "\n",
    "urlphish_hyrder_a = urlphish_hyrder_E4.time()\n",
    "\n",
    "P_hybrid = hyrder_A.predict(inputV_hybrid)\n",
    "print(urlphish_hyrder_E1(outputV_hybrid, P_hybrid))\n",
    "E2 = urlphish_hyrder_E2(outputV_hybrid, P_hybrid)\n",
    "E3 = urlphish_hyrder_E3(confusion_matrix = E2, display_labels = [0, 1])\n",
    "E3.plot()\n",
    "\n",
    "urlphish_hyrder_b = urlphish_hyrder_E4.time()\n",
    "print(\"\\n validation--------time  :\", urlphish_hyrder_b-urlphish_hyrder_a,\"\\n\")"
   ]
  },
  {
   "cell_type": "code",
   "execution_count": 30,
   "metadata": {
    "colab": {
     "base_uri": "https://localhost:8080/",
     "height": 657
    },
    "executionInfo": {
     "elapsed": 1615,
     "status": "ok",
     "timestamp": 1699118863666,
     "user": {
      "displayName": "Jada Projects",
      "userId": "08763996031315654589"
     },
     "user_tz": -330
    },
    "id": "s-DDnG8gWReA",
    "outputId": "23baccef-0ab4-4459-d543-81a3e0daafc6"
   },
   "outputs": [
    {
     "name": "stdout",
     "output_type": "stream",
     "text": [
      "              precision    recall  f1-score   support\n",
      "\n",
      "           0       0.81      0.50      0.62     22845\n",
      "           1       0.87      0.96      0.91     78595\n",
      "\n",
      "    accuracy                           0.86    101440\n",
      "   macro avg       0.84      0.73      0.77    101440\n",
      "weighted avg       0.85      0.86      0.85    101440\n",
      "\n",
      "\n",
      " testing--------time  : 0.9686183929443359 \n",
      "\n"
     ]
    },
    {
     "data": {
      "image/png": "[encoded data removed]",
      "text/plain": [
       "<Figure size 640x480 with 2 Axes>"
      ]
     },
     "metadata": {},
     "output_type": "display_data"
    }
   ],
   "source": [
    "urlphish_hyrder_a = urlphish_hyrder_E4.time()\n",
    "\n",
    "P_hybrid = hyrder_A.predict(inputS_hybrid)\n",
    "print(urlphish_hyrder_E1(outputS_hybrid, P_hybrid))\n",
    "E2 = urlphish_hyrder_E2(outputS_hybrid, P_hybrid)\n",
    "E3 = urlphish_hyrder_E3(confusion_matrix = E2, display_labels = [0, 1])\n",
    "E3.plot()\n",
    "\n",
    "urlphish_hyrder_b = urlphish_hyrder_E4.time()\n",
    "print(\"\\n testing--------time  :\", urlphish_hyrder_b-urlphish_hyrder_a,\"\\n\")"
   ]
  },
  {
   "cell_type": "markdown",
   "metadata": {
    "id": "DW6bwJRxYI4o"
   },
   "source": [
    "# G. Adaboost, Random Forest, Gaussian NB, Decision Tree with MLP"
   ]
  },
  {
   "cell_type": "code",
   "execution_count": 31,
   "metadata": {
    "colab": {
     "base_uri": "https://localhost:8080/"
    },
    "executionInfo": {
     "elapsed": 5286,
     "status": "ok",
     "timestamp": 1699119041267,
     "user": {
      "displayName": "Jada Projects",
      "userId": "08763996031315654589"
     },
     "user_tz": -330
    },
    "id": "R5xW49MAYKFv",
    "outputId": "3ab8dfd1-16f1-4663-b3bc-9639fc4cc056"
   },
   "outputs": [
    {
     "name": "stdout",
     "output_type": "stream",
     "text": [
      "{'voting': 'hard'}\n",
      "score_value :  0.806\n"
     ]
    }
   ],
   "source": [
    "\n",
    "urlphish_vrt = {'voting': ['soft', 'hard']}\n",
    "\n",
    "urlphish_hyrder_m1 = urlphish_hyrder_E6(algorithm= 'SAMME.R', learning_rate= 1.0, n_estimators= 20)\n",
    "urlphish_hyrder_m2 = urlphish_hyrder_E7(criterion= 'entropy', n_estimators= 20, n_jobs= 10)\n",
    "urlphish_hyrder_m3 = urlphish_hyrder_E8(var_smoothing= 1.0)\n",
    "urlphish_hyrder_m4 = urlphish_hyrder_E9(criterion= 'entropy', max_features= 'auto', splitter= 'best')\n",
    "urlphish_hyrder_m5 = urlphish_hyrder_E10(activation= 'relu', learning_rate= 'constant', solver= 'adam')\n",
    "\n",
    "urlphish_vrtr = urlphish_hyrder_E11(estimators=[('adaboost', urlphish_hyrder_m1), ('randomforest', urlphish_hyrder_m2), ('gnb', urlphish_hyrder_m3), ('dt', urlphish_hyrder_m4), ('mlp', urlphish_hyrder_m5)])\n",
    "\n",
    "urlphish_vrtr = urlphish_hyrder_E5(urlphish_vrtr, urlphish_vrt, cv=2)\n",
    "urlphish_vrtr.fit(inputN_hybrid[:1000], outputN_hybrid[:1000])\n",
    "\n",
    "print(urlphish_vrtr.best_params_)\n",
    "print(\"score_value : \", urlphish_vrtr.best_score_)"
   ]
  },
  {
   "cell_type": "code",
   "execution_count": 32,
   "metadata": {
    "colab": {
     "base_uri": "https://localhost:8080/",
     "height": 709
    },
    "executionInfo": {
     "elapsed": 216044,
     "status": "ok",
     "timestamp": 1699119263773,
     "user": {
      "displayName": "Jada Projects",
      "userId": "08763996031315654589"
     },
     "user_tz": -330
    },
    "id": "oI0JTKUPYKJ6",
    "outputId": "c5ec48f0-bfaf-41c3-a24e-5be768a60b0a",
    "scrolled": true
   },
   "outputs": [
    {
     "name": "stdout",
     "output_type": "stream",
     "text": [
      "\n",
      " Training------time : 715.0357027053833 \n",
      "\n",
      "              precision    recall  f1-score   support\n",
      "\n",
      "           0       0.88      0.46      0.60     22821\n",
      "           1       0.86      0.98      0.92     78618\n",
      "\n",
      "    accuracy                           0.86    101439\n",
      "   macro avg       0.87      0.72      0.76    101439\n",
      "weighted avg       0.87      0.86      0.85    101439\n",
      "\n",
      "\n",
      " validation--------time  : 1.8144562244415283 \n",
      "\n"
     ]
    },
    {
     "data": {
      "image/png": "[encoded data removed]",
      "text/plain": [
       "<Figure size 640x480 with 2 Axes>"
      ]
     },
     "metadata": {},
     "output_type": "display_data"
    }
   ],
   "source": [
    "urlphish_hyrder_a = urlphish_hyrder_E4.time()\n",
    "hyrder_A = urlphish_hyrder_E11(estimators=[('adaboost', urlphish_hyrder_m1), ('randomforest', urlphish_hyrder_m2), ('gnb', urlphish_hyrder_m3), ('dt', urlphish_hyrder_m4), ('mlp', urlphish_hyrder_m5)], **urlphish_vrtr.best_params_)\n",
    "hyrder_A.fit(inputN_hybrid, outputN_hybrid)\n",
    "\n",
    "urlphish_hyrder_b = urlphish_hyrder_E4.time()\n",
    "print(\"\\n Training------time :\", urlphish_hyrder_b-urlphish_hyrder_a,\"\\n\")\n",
    "\n",
    "urlphish_hyrder_a = urlphish_hyrder_E4.time()\n",
    "\n",
    "P_hybrid = hyrder_A.predict(inputV_hybrid)\n",
    "print(urlphish_hyrder_E1(outputV_hybrid, P_hybrid))\n",
    "E2 = urlphish_hyrder_E2(outputV_hybrid, P_hybrid)\n",
    "E3 = urlphish_hyrder_E3(confusion_matrix = E2, display_labels = [0, 1])\n",
    "E3.plot()\n",
    "\n",
    "urlphish_hyrder_b = urlphish_hyrder_E4.time()\n",
    "print(\"\\n validation--------time  :\", urlphish_hyrder_b-urlphish_hyrder_a,\"\\n\")"
   ]
  },
  {
   "cell_type": "code",
   "execution_count": 33,
   "metadata": {
    "colab": {
     "base_uri": "https://localhost:8080/",
     "height": 657
    },
    "executionInfo": {
     "elapsed": 2683,
     "status": "ok",
     "timestamp": 1699119270348,
     "user": {
      "displayName": "Jada Projects",
      "userId": "08763996031315654589"
     },
     "user_tz": -330
    },
    "id": "2RgG3KHQYKMh",
    "outputId": "37ac2575-78f7-4261-f2f3-645c71137314"
   },
   "outputs": [
    {
     "name": "stdout",
     "output_type": "stream",
     "text": [
      "              precision    recall  f1-score   support\n",
      "\n",
      "           0       0.88      0.46      0.60     22845\n",
      "           1       0.86      0.98      0.92     78595\n",
      "\n",
      "    accuracy                           0.86    101440\n",
      "   macro avg       0.87      0.72      0.76    101440\n",
      "weighted avg       0.87      0.86      0.85    101440\n",
      "\n",
      "\n",
      " testing--------time  : 1.9095613956451416 \n",
      "\n"
     ]
    },
    {
     "data": {
      "image/png": "[encoded data removed]",
      "text/plain": [
       "<Figure size 640x480 with 2 Axes>"
      ]
     },
     "metadata": {},
     "output_type": "display_data"
    }
   ],
   "source": [
    "\n",
    "urlphish_hyrder_a = urlphish_hyrder_E4.time()\n",
    "\n",
    "P_hybrid = hyrder_A.predict(inputS_hybrid)\n",
    "print(urlphish_hyrder_E1(outputS_hybrid, P_hybrid))\n",
    "E2 = urlphish_hyrder_E2(outputS_hybrid, P_hybrid)\n",
    "E3 = urlphish_hyrder_E3(confusion_matrix = E2, display_labels = [0, 1])\n",
    "E3.plot()\n",
    "\n",
    "urlphish_hyrder_b = urlphish_hyrder_E4.time()\n",
    "print(\"\\n testing--------time  :\", urlphish_hyrder_b-urlphish_hyrder_a,\"\\n\")"
   ]
  }
 ],
 "metadata": {
  "colab": {
   "authorship_tag": "ABX9TyOCpFzg/K5Da9mGEoHN9Vo+",
   "mount_file_id": "1eMWJJBK6_9GwWTIKM2R2zp6469xDxpms",
   "provenance": []
  },
  "kernelspec": {
   "display_name": "Python 3 (ipykernel)",
   "language": "python",
   "name": "python3"
  },
  "language_info": {
   "codemirror_mode": {
    "name": "ipython",
    "version": 3
   },
   "file_extension": ".py",
   "mimetype": "text/x-python",
   "name": "python",
   "nbconvert_exporter": "python",
   "pygments_lexer": "ipython3",
   "version": "3.9.13"
  }
 },
 "nbformat": 4,
 "nbformat_minor": 1
}
